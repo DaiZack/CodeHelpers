{
  "nbformat": 4,
  "nbformat_minor": 0,
  "metadata": {
    "colab": {
      "name": "socialeval.ipynb",
      "provenance": [],
      "authorship_tag": "ABX9TyML7QUkfzR/JpeDHbj5UHBL",
      "include_colab_link": true
    },
    "kernelspec": {
      "name": "python3",
      "display_name": "Python 3"
    }
  },
  "cells": [
    {
      "cell_type": "markdown",
      "metadata": {
        "id": "view-in-github",
        "colab_type": "text"
      },
      "source": [
        "<a href=\"https://colab.research.google.com/github/DaiZack/CodeHelpers/blob/master/PDFfile2network.ipynb\" target=\"_parent\"><img src=\"https://colab.research.google.com/assets/colab-badge.svg\" alt=\"Open In Colab\"/></a>"
      ]
    },
    {
      "cell_type": "markdown",
      "metadata": {
        "id": "u4us-MjjPTx6",
        "colab_type": "text"
      },
      "source": [
        "#Mount the data (I used Grive)"
      ]
    },
    {
      "cell_type": "code",
      "metadata": {
        "id": "5ZlkQc0aJRer",
        "colab_type": "code",
        "colab": {
          "base_uri": "https://localhost:8080/",
          "height": 35
        },
        "outputId": "e13ec9bd-3693-4954-a93c-d96532bba151"
      },
      "source": [
        "from google.colab import drive\n",
        "drive.mount('/content/drive')"
      ],
      "execution_count": 57,
      "outputs": [
        {
          "output_type": "stream",
          "text": [
            "Drive already mounted at /content/drive; to attempt to forcibly remount, call drive.mount(\"/content/drive\", force_remount=True).\n"
          ],
          "name": "stdout"
        }
      ]
    },
    {
      "cell_type": "code",
      "metadata": {
        "id": "-gpZCofdKebk",
        "colab_type": "code",
        "colab": {}
      },
      "source": [
        "!nohup pip install tabula-py # install pdf table library"
      ],
      "execution_count": null,
      "outputs": []
    },
    {
      "cell_type": "code",
      "metadata": {
        "id": "KlWAZcUT5MaC",
        "colab_type": "code",
        "colab": {}
      },
      "source": [
        "# corpname cannot be perfectly gathered, list here to fix the ones have problems\n",
        "corpnamedict = {'NPI Application - BIAN.pdf':'Brain Injury Association of Niagara',\n",
        "'NPI Application - CC - Systems Navigation.pdf':'Community Care St. Catharines and Thorold',\n",
        "'NPI Application - Folk Arts - Living Wage.pdf':'Niagara Folk Arts Multicultural Centre',\n",
        "'NPI Application - Folk Arts - 50+.pdf':'Niagara Folk Arts Multicultural Centre',\n",
        "'NPI Application - Heart Niagara.pdf':'Heart Niagara',\n",
        "'NPI Application - Horse Cents.pdf':'Horse Cents for Kids Inc',\n",
        "'NPI Application - Niagara College.pdf':'Niagara College',\n",
        "'NPI Application - Niagara Connects.pdf':'Niagara Connects',\n",
        "'NPI Application - Niagara Medical Group.pdf':'Niagara Medical Group Family Health Team',\n",
        "'NPI Application - Port Cares.pdf':'Port Cares',\n",
        "'NPI Application - Quest - Smiles.pdf':'Quest Community Health Centre',\n",
        "'NPI Application - Quest - HEART.pdf':'Quest Community Health Centre',\n",
        "'NPI Application - REACH.pdf':'REACH Niagara',\n",
        "'NPI Application - Rose City Kids.pdf':'Rose City Kids',\n",
        "'NPI Application - STEPNiagara.pdf':'STEP Niagara',\n",
        "'NPI Application - Village of Hope - Bring it Home.pdf':'The Village of Hope',\n",
        "'NPI Application - Village of Hope - One Roof.pdf':'The Village of Hope',\n",
        "'NPI Application - YMCA.pdf':'YMCA of Niagara',\n",
        "'NPI Application - CC - Brushed Aside.pdf':'Community Care St. Catharines and Thorold',\n",
        "'NPI Application - Centre de sante.pdf':'Centre de santé communautaire Hamilton / Niagara',\n",
        "'NPI Application - CMHA.pdf':'Canadian Mental Health Association Niagara Branch',\n",
        "'NPI Application - CLPCW - With Friends.pdf':'Community Living Port Colborne~Wainfleet',\n",
        "'NPI Application - EHC.pdf':'Employment Help Centre',\n",
        "'NPI Application - Food4Kids.pdf':' Food4Kids Niagara',\n",
        "'NPI Application - FORT.pdf':' FORT',\n",
        "'NPI Application - Gateway.pdf':'Gateway Residential & Community Support Services of Niagara Inc.',\n",
        "'NPI Application - GBF.pdf':'Grimsby Benevolent Fund',\n",
        "'NPI Application - Heartland.pdf':'Heartland Forest Nature Experience',\n",
        "'NPI Application - Hope Centre.pdf':'The Hope Centre',\n",
        "'NPI Application - JHS.pdf':'John Howard Society of Niagara',\n",
        "'NPI Application - LInks for Greener learning.pdf':'Links for Greener Learning',\n",
        "'NPI Application - NFB.pdf':'Niagara Furniture Bank',\n",
        "'NPI Application - ProjectSHARE.pdf':'Project SHARE of Niagara Falls Inc.',\n",
        "'NPI Application - RAFT.pdf':'The RAFT',\n",
        "'NPI Application - SMUN.pdf':'Start Me Up Niagara',\n",
        "'NPI Application - Southridge.pdf':'Southridge Shelter',\n",
        "'NPI Application - Strive.pdf':'Strive Niagara',\n",
        "'NPI Application - Third Space Cafe.pdf':'Third Space Cafe',\n",
        "'NPI Application - Welland Heritage.pdf':'Welland Heritage Council and Multicultural Centre',\n",
        "'NPI Application - Westview - Champions.pdf':'Westview Christian Fellowship',\n",
        "'NPI Application - Westview at night.pdf':'Westview Christian Fellowship',\n",
        "'NPI Application - Westview - Centre4Women.pdf':'Westview Christian Fellowship'}"
      ],
      "execution_count": 89,
      "outputs": []
    },
    {
      "cell_type": "markdown",
      "metadata": {
        "id": "J0XA5fVDP5Yp",
        "colab_type": "text"
      },
      "source": [
        "# Create the library to parse the files"
      ]
    },
    {
      "cell_type": "code",
      "metadata": {
        "id": "PW0ToV0fLY2P",
        "colab_type": "code",
        "colab": {}
      },
      "source": [
        "def file2df(filepath):\n",
        "  import tabula\n",
        "  dfs = tabula.read_pdf(filepath,lattice=True, pages='all')\n",
        "  try:\n",
        "    corpname = dfs[0].astype('str').iloc[0,0].split(':')[1]\n",
        "  except:\n",
        "    corpname = filename.split('-')[-1].strip() #.replace('.pdf','')\n",
        "    if filename in corpnamedict:\n",
        "      corpname = corpnamedict[filename]\n",
        "  patnerdfs = [d for d in dfs if 'Partner' in ' '.join(d.columns)]\n",
        "  print(corpname,' partnertbales:',len(patnerdfs))\n",
        "  if len(patnerdfs) <1:\n",
        "    partnerdf = pd.DataFrame([[filename],[],[]],columns=['partner','role','letter'])\n",
        "  else:\n",
        "    partnerdf = patnerdfs[0]\n",
        "  return corpname, partnerdf\n",
        "\n",
        "\n",
        "def files2df(path):\n",
        "  import tabula\n",
        "  import pandas as pd\n",
        "  import os\n",
        "  outdf = pd.DataFrame()\n",
        "  filenames = os.listdir(path)\n",
        "  filenames = [f for f in filenames if f.endswith('.pdf')]\n",
        "\n",
        "  for filename in filenames:\n",
        "    filepath = os.path.join(path,filename)\n",
        "    # print(filepath)\n",
        "    dfs = tabula.read_pdf(filepath, lattice=True,pages='all')\n",
        "    try:\n",
        "      corpname = dfs[0].astype('str').iloc[0,0].split(':')[1]\n",
        "    except:\n",
        "      corpname = filename.split('-')[-1].strip() #.replace('.pdf','')\n",
        "      if filename in corpnamedict:\n",
        "        corpname = corpnamedict[filename]\n",
        "    patnerdfs = [d for d in dfs if 'Partner' in ' '.join(d.columns) and 'role' in ' '.join(d.columns)]\n",
        "    print(corpname,' partnertbales:',len(patnerdfs))\n",
        "    if len(patnerdfs) <1:\n",
        "      partnerdf = pd.DataFrame([[filename,'','']],columns=['partner','role','letter'])\n",
        "    else:\n",
        "      partnerdf = patnerdfs[0]\n",
        "    partnerdf.columns=['partner','role','letter']\n",
        "    partnerdf['corp'] = corpname\n",
        "    partnerdf['file'] = filename\n",
        "    outdf = pd.concat([outdf, partnerdf])\n",
        "    outdf = outdf.drop_duplicates()\n",
        "  return outdf"
      ],
      "execution_count": 75,
      "outputs": []
    },
    {
      "cell_type": "markdown",
      "metadata": {
        "id": "ElllB4b1QIVB",
        "colab_type": "text"
      },
      "source": [
        "#Process the folders"
      ]
    },
    {
      "cell_type": "code",
      "metadata": {
        "id": "PNAkFQFfwMXO",
        "colab_type": "code",
        "colab": {
          "base_uri": "https://localhost:8080/",
          "height": 454
        },
        "outputId": "7b6b3fea-3a04-427a-8052-c3f08d665e4d"
      },
      "source": [
        "Adf = files2df('/content/drive/My Drive/Social Network Analysis/eval/03. 2019 Applications/Approved - Original Application')"
      ],
      "execution_count": 77,
      "outputs": [
        {
          "output_type": "stream",
          "text": [
            "Community Care St. Catharines and Thorold  partnertbales: 1\n",
            "Centre de santé communautaire Hamilton / Niagara  partnertbales: 1\n",
            "Canadian Mental Health Association Niagara Branch  partnertbales: 1\n",
            "Community Living Port Colborne~Wainfleet  partnertbales: 1\n",
            "Employment Help Centre  partnertbales: 1\n",
            "Food4Kids Niagara  partnertbales: 1\n",
            "FORT  partnertbales: 1\n",
            "Niagara Inc.  partnertbales: 1\n",
            "Grimsby Benevolent Fund  partnertbales: 1\n",
            "Heartland Forest Nature Experience  partnertbales: 1\n",
            "The Hope Centre  partnertbales: 1\n",
            "John Howard Society of Niagara  partnertbales: 1\n",
            "Links for Greener Learning  partnertbales: 1\n",
            "Niagara Furniture Bank  partnertbales: 1\n",
            "Project SHARE of Niagara Falls Inc.  partnertbales: 1\n",
            "The RAFT  partnertbales: 1\n",
            "Start Me Up Niagara  partnertbales: 1\n",
            "Southridge Shelter  partnertbales: 1\n",
            "Strive Niagara  partnertbales: 1\n",
            "Third Space Cafe  partnertbales: 1\n",
            "Welland Heritage Council and Multicultural Centre  partnertbales: 1\n",
            "Westview Christian Fellowship  partnertbales: 1\n",
            "Westview Christian Fellowship  partnertbales: 1\n",
            "Westview Christian Fellowship  partnertbales: 1\n"
          ],
          "name": "stdout"
        }
      ]
    },
    {
      "cell_type": "code",
      "metadata": {
        "id": "3Cb_n6w4yKTu",
        "colab_type": "code",
        "colab": {
          "base_uri": "https://localhost:8080/",
          "height": 345
        },
        "outputId": "dcdebaf0-72da-4bcf-fd46-0a25f9922c65"
      },
      "source": [
        "Ddf = files2df('/content/drive/My Drive/Social Network Analysis/eval/03. 2019 Applications/declined')"
      ],
      "execution_count": 78,
      "outputs": [
        {
          "output_type": "stream",
          "text": [
            "Brain Injury Association of Niagara  partnertbales: 1\n",
            "Community Care St. Catharines and Thorold  partnertbales: 1\n",
            "Niagara Folk Arts Multicultural Centre  partnertbales: 1\n",
            "Niagara Folk Arts Multicultural Centre  partnertbales: 1\n",
            "Heart Niagara  partnertbales: 1\n",
            "Horse Cents for Kids Inc  partnertbales: 1\n",
            "Niagara College Canada  partnertbales: 1\n",
            "Niagara Connects  partnertbales: 1\n",
            "Niagara Medical Group Family Health Team  partnertbales: 1\n",
            "Port Cares  partnertbales: 1\n",
            "Quest Community Health Centre  partnertbales: 1\n",
            "Quest Community Health Centre  partnertbales: 1\n",
            "REACH Niagara  partnertbales: 1\n",
            "Rose City Kids  partnertbales: 1\n",
            "STEP Niagara  partnertbales: 1\n",
            "The Village of Hope  partnertbales: 1\n",
            "The Village of Hope  partnertbales: 1\n",
            "YMCA of Niagara  partnertbales: 1\n"
          ],
          "name": "stdout"
        }
      ]
    },
    {
      "cell_type": "code",
      "metadata": {
        "id": "5FJ1_DVrwhfI",
        "colab_type": "code",
        "colab": {}
      },
      "source": [
        "with pd.ExcelWriter('eval.xlsx') as w:\n",
        "  Adf.to_excel(w, 'approved', index=False)\n",
        "  Ddf.to_excel(w,'declined', index=False)"
      ],
      "execution_count": 79,
      "outputs": []
    },
    {
      "cell_type": "markdown",
      "metadata": {
        "id": "8vPUTfJZQdG-",
        "colab_type": "text"
      },
      "source": [
        "# Create network VIS"
      ]
    },
    {
      "cell_type": "code",
      "metadata": {
        "id": "rc68UlMqjlHK",
        "colab_type": "code",
        "colab": {
          "base_uri": "https://localhost:8080/",
          "height": 35
        },
        "outputId": "ebbeb73d-104e-43dd-834a-029a80798738"
      },
      "source": [
        "!nohup pip install pyvis"
      ],
      "execution_count": 81,
      "outputs": [
        {
          "output_type": "stream",
          "text": [
            "nohup: ignoring input and appending output to 'nohup.out'\n"
          ],
          "name": "stdout"
        }
      ]
    },
    {
      "cell_type": "code",
      "metadata": {
        "id": "aEnq2muUkvXF",
        "colab_type": "code",
        "colab": {}
      },
      "source": [
        "import IPython\n",
        "\n",
        "def pandasnet(df,source, target, relation=None, htmlname='network.html'):\n",
        "  import pyvis\n",
        "  df = df.dropna(subset=[source,target])\n",
        "  if not relation:\n",
        "    relation = 'netrelation'\n",
        "    df[relation] = ''\n",
        "  df[relation].fillna('', inplace=True)\n",
        "  net = pyvis.network.Network(height='500px', width='1000px', notebook=True)\n",
        "  for i, row in df.iterrows():\n",
        "    net.add_node(row[source],row[source], title=row[source], color='maroon')\n",
        "    net.add_node(row[target],row[target], title=row[target], color='TEAL')\n",
        "    net.add_edge(row[source], row[target], title = row[relation])\n",
        "  net.show(htmlname) # save the graph to file \"network.html\"\n",
        "  return htmlname"
      ],
      "execution_count": 82,
      "outputs": []
    },
    {
      "cell_type": "code",
      "metadata": {
        "id": "EvN1f07gsgJg",
        "colab_type": "code",
        "colab": {
          "base_uri": "https://localhost:8080/",
          "height": 667
        },
        "outputId": "f81d01ce-ddf9-43a7-91d7-bd7eec27da1d"
      },
      "source": [
        "df = Adf\n",
        "\n",
        "Ahtml = pandasnet(Adf,'corp', 'partner','role', htmlname='approved.html')\n",
        "IPython.display.HTML(Ahtml)"
      ],
      "execution_count": 86,
      "outputs": [
        {
          "output_type": "stream",
          "text": [
            "/usr/local/lib/python3.6/dist-packages/pandas/core/generic.py:6245: SettingWithCopyWarning: \n",
            "A value is trying to be set on a copy of a slice from a DataFrame\n",
            "\n",
            "See the caveats in the documentation: https://pandas.pydata.org/pandas-docs/stable/user_guide/indexing.html#returning-a-view-versus-a-copy\n",
            "  self._update_inplace(new_data)\n"
          ],
          "name": "stderr"
        },
        {
          "output_type": "execute_result",
          "data": {
            "text/html": [
              "<html>\n",
              "<head>\n",
              "<link rel=\"stylesheet\" href=\"https://cdnjs.cloudflare.com/ajax/libs/vis/4.16.1/vis.css\" type=\"text/css\" />\n",
              "<script type=\"text/javascript\" src=\"https://cdnjs.cloudflare.com/ajax/libs/vis/4.16.1/vis-network.min.js\"> </script>\n",
              "<center>\n",
              "<h1>None</h1>\n",
              "</center>\n",
              "\n",
              "<!-- <link rel=\"stylesheet\" href=\"../node_modules/vis/dist/vis.min.css\" type=\"text/css\" />\n",
              "<script type=\"text/javascript\" src=\"../node_modules/vis/dist/vis.js\"> </script>-->\n",
              "\n",
              "<style type=\"text/css\">\n",
              "\n",
              "        #mynetwork {\n",
              "            width: 1000px;\n",
              "            height: 500px;\n",
              "            background-color: #ffffff;\n",
              "            border: 1px solid lightgray;\n",
              "            position: relative;\n",
              "            float: left;\n",
              "        }\n",
              "\n",
              "        \n",
              "        #loadingBar {\n",
              "            position:absolute;\n",
              "            top:0px;\n",
              "            left:0px;\n",
              "            width: 1000px;\n",
              "            height: 500px;\n",
              "            background-color:rgba(200,200,200,0.8);\n",
              "            -webkit-transition: all 0.5s ease;\n",
              "            -moz-transition: all 0.5s ease;\n",
              "            -ms-transition: all 0.5s ease;\n",
              "            -o-transition: all 0.5s ease;\n",
              "            transition: all 0.5s ease;\n",
              "            opacity:1;\n",
              "        }\n",
              "\n",
              "        #bar {\n",
              "            position:absolute;\n",
              "            top:0px;\n",
              "            left:0px;\n",
              "            width:20px;\n",
              "            height:20px;\n",
              "            margin:auto auto auto auto;\n",
              "            border-radius:11px;\n",
              "            border:2px solid rgba(30,30,30,0.05);\n",
              "            background: rgb(0, 173, 246); /* Old browsers */\n",
              "            box-shadow: 2px 0px 4px rgba(0,0,0,0.4);\n",
              "        }\n",
              "\n",
              "        #border {\n",
              "            position:absolute;\n",
              "            top:10px;\n",
              "            left:10px;\n",
              "            width:500px;\n",
              "            height:23px;\n",
              "            margin:auto auto auto auto;\n",
              "            box-shadow: 0px 0px 4px rgba(0,0,0,0.2);\n",
              "            border-radius:10px;\n",
              "        }\n",
              "\n",
              "        #text {\n",
              "            position:absolute;\n",
              "            top:8px;\n",
              "            left:530px;\n",
              "            width:30px;\n",
              "            height:50px;\n",
              "            margin:auto auto auto auto;\n",
              "            font-size:22px;\n",
              "            color: #000000;\n",
              "        }\n",
              "\n",
              "        div.outerBorder {\n",
              "            position:relative;\n",
              "            top:400px;\n",
              "            width:600px;\n",
              "            height:44px;\n",
              "            margin:auto auto auto auto;\n",
              "            border:8px solid rgba(0,0,0,0.1);\n",
              "            background: rgb(252,252,252); /* Old browsers */\n",
              "            background: -moz-linear-gradient(top,  rgba(252,252,252,1) 0%, rgba(237,237,237,1) 100%); /* FF3.6+ */\n",
              "            background: -webkit-gradient(linear, left top, left bottom, color-stop(0%,rgba(252,252,252,1)), color-stop(100%,rgba(237,237,237,1))); /* Chrome,Safari4+ */\n",
              "            background: -webkit-linear-gradient(top,  rgba(252,252,252,1) 0%,rgba(237,237,237,1) 100%); /* Chrome10+,Safari5.1+ */\n",
              "            background: -o-linear-gradient(top,  rgba(252,252,252,1) 0%,rgba(237,237,237,1) 100%); /* Opera 11.10+ */\n",
              "            background: -ms-linear-gradient(top,  rgba(252,252,252,1) 0%,rgba(237,237,237,1) 100%); /* IE10+ */\n",
              "            background: linear-gradient(to bottom,  rgba(252,252,252,1) 0%,rgba(237,237,237,1) 100%); /* W3C */\n",
              "            filter: progid:DXImageTransform.Microsoft.gradient( startColorstr='#fcfcfc', endColorstr='#ededed',GradientType=0 ); /* IE6-9 */\n",
              "            border-radius:72px;\n",
              "            box-shadow: 0px 0px 10px rgba(0,0,0,0.2);\n",
              "        }\n",
              "        \n",
              "\n",
              "        \n",
              "\n",
              "        \n",
              "</style>\n",
              "\n",
              "</head>\n",
              "\n",
              "<body>\n",
              "<div id = \"mynetwork\"></div>\n",
              "\n",
              "<div id=\"loadingBar\">\n",
              "    <div class=\"outerBorder\">\n",
              "        <div id=\"text\">0%</div>\n",
              "        <div id=\"border\">\n",
              "            <div id=\"bar\"></div>\n",
              "        </div>\n",
              "    </div>\n",
              "</div>\n",
              "\n",
              "\n",
              "<script type=\"text/javascript\">\n",
              "\n",
              "    // initialize global variables.\n",
              "    var edges;\n",
              "    var nodes;\n",
              "    var network; \n",
              "    var container;\n",
              "    var options, data;\n",
              "\n",
              "    \n",
              "    // This method is responsible for drawing the graph, returns the drawn network\n",
              "    function drawGraph() {\n",
              "        var container = document.getElementById('mynetwork');\n",
              "        \n",
              "        \n",
              "\n",
              "        // parsing and collecting nodes and edges from the python\n",
              "        nodes = new vis.DataSet([{\"color\": \"maroon\", \"id\": \"Community Care St. Catharines and Thorold\", \"label\": \"Community Care St. Catharines and Thorold\", \"shape\": \"dot\", \"title\": \"Community Care St. Catharines and Thorold\"}, {\"color\": \"TEAL\", \"id\": \"Community\\rCare St.\\rCatharines \\u0026\\rThorold\", \"label\": \"Community\\rCare St.\\rCatharines \\u0026\\rThorold\", \"shape\": \"dot\", \"title\": \"Community\\rCare St.\\rCatharines \\u0026\\rThorold\"}, {\"color\": \"TEAL\", \"id\": \"The Hope\\rCentre\", \"label\": \"The Hope\\rCentre\", \"shape\": \"dot\", \"title\": \"The Hope\\rCentre\"}, {\"color\": \"TEAL\", \"id\": \"Bridges\\rCommunity\\rHealth Centre\", \"label\": \"Bridges\\rCommunity\\rHealth Centre\", \"shape\": \"dot\", \"title\": \"Bridges\\rCommunity\\rHealth Centre\"}, {\"color\": \"TEAL\", \"id\": \"Community\\rCare of West\\rNiagara\", \"label\": \"Community\\rCare of West\\rNiagara\", \"shape\": \"dot\", \"title\": \"Community\\rCare of West\\rNiagara\"}, {\"color\": \"TEAL\", \"id\": \"Project Share\", \"label\": \"Project Share\", \"shape\": \"dot\", \"title\": \"Project Share\"}, {\"color\": \"TEAL\", \"id\": \"Start Me Up\\rNiagara\", \"label\": \"Start Me Up\\rNiagara\", \"shape\": \"dot\", \"title\": \"Start Me Up\\rNiagara\"}, {\"color\": \"maroon\", \"id\": \"Centre de sant\\u00e9 communautaire Hamilton / Niagara\", \"label\": \"Centre de sant\\u00e9 communautaire Hamilton / Niagara\", \"shape\": \"dot\", \"title\": \"Centre de sant\\u00e9 communautaire Hamilton / Niagara\"}, {\"color\": \"TEAL\", \"id\": \"Foyer Richelieu\", \"label\": \"Foyer Richelieu\", \"shape\": \"dot\", \"title\": \"Foyer Richelieu\"}, {\"color\": \"TEAL\", \"id\": \"Journal Le R\\u00e9gional\", \"label\": \"Journal Le R\\u00e9gional\", \"shape\": \"dot\", \"title\": \"Journal Le R\\u00e9gional\"}, {\"color\": \"TEAL\", \"id\": \"Niagara Knowledge\\rConnects\", \"label\": \"Niagara Knowledge\\rConnects\", \"shape\": \"dot\", \"title\": \"Niagara Knowledge\\rConnects\"}, {\"color\": \"maroon\", \"id\": \"Canadian Mental Health Association Niagara Branch\", \"label\": \"Canadian Mental Health Association Niagara Branch\", \"shape\": \"dot\", \"title\": \"Canadian Mental Health Association Niagara Branch\"}, {\"color\": \"TEAL\", \"id\": \"Community Addiction\\rServices of Niagara\", \"label\": \"Community Addiction\\rServices of Niagara\", \"shape\": \"dot\", \"title\": \"Community Addiction\\rServices of Niagara\"}, {\"color\": \"TEAL\", \"id\": \"YWCA of Niagara\\rRegion\", \"label\": \"YWCA of Niagara\\rRegion\", \"shape\": \"dot\", \"title\": \"YWCA of Niagara\\rRegion\"}, {\"color\": \"TEAL\", \"id\": \"Canadian Mental\\rHealth Association\", \"label\": \"Canadian Mental\\rHealth Association\", \"shape\": \"dot\", \"title\": \"Canadian Mental\\rHealth Association\"}, {\"color\": \"maroon\", \"id\": \"Community Living Port Colborne~Wainfleet\", \"label\": \"Community Living Port Colborne~Wainfleet\", \"shape\": \"dot\", \"title\": \"Community Living Port Colborne~Wainfleet\"}, {\"color\": \"TEAL\", \"id\": \"HEARTLAND\\rFOREST\", \"label\": \"HEARTLAND\\rFOREST\", \"shape\": \"dot\", \"title\": \"HEARTLAND\\rFOREST\"}, {\"color\": \"TEAL\", \"id\": \"I CANTER\", \"label\": \"I CANTER\", \"shape\": \"dot\", \"title\": \"I CANTER\"}, {\"color\": \"TEAL\", \"id\": \"YMCA\", \"label\": \"YMCA\", \"shape\": \"dot\", \"title\": \"YMCA\"}, {\"color\": \"maroon\", \"id\": \"Employment Help Centre\", \"label\": \"Employment Help Centre\", \"shape\": \"dot\", \"title\": \"Employment Help Centre\"}, {\"color\": \"TEAL\", \"id\": \"Start Me\\rUp Niagara\", \"label\": \"Start Me\\rUp Niagara\", \"shape\": \"dot\", \"title\": \"Start Me\\rUp Niagara\"}, {\"color\": \"maroon\", \"id\": \"Food4Kids Niagara\", \"label\": \"Food4Kids Niagara\", \"shape\": \"dot\", \"title\": \"Food4Kids Niagara\"}, {\"color\": \"TEAL\", \"id\": \"District School Board\\rof Niagara\", \"label\": \"District School Board\\rof Niagara\", \"shape\": \"dot\", \"title\": \"District School Board\\rof Niagara\"}, {\"color\": \"TEAL\", \"id\": \"Niagara Catholic\\rDistrict School Board\", \"label\": \"Niagara Catholic\\rDistrict School Board\", \"shape\": \"dot\", \"title\": \"Niagara Catholic\\rDistrict School Board\"}, {\"color\": \"TEAL\", \"id\": \"Community Gardens\", \"label\": \"Community Gardens\", \"shape\": \"dot\", \"title\": \"Community Gardens\"}, {\"color\": \"maroon\", \"id\": \"FORT\", \"label\": \"FORT\", \"shape\": \"dot\", \"title\": \"FORT\"}, {\"color\": \"TEAL\", \"id\": \"Employment Help\\rCentre\", \"label\": \"Employment Help\\rCentre\", \"shape\": \"dot\", \"title\": \"Employment Help\\rCentre\"}, {\"color\": \"TEAL\", \"id\": \"Smithville United\\rChurch\", \"label\": \"Smithville United\\rChurch\", \"shape\": \"dot\", \"title\": \"Smithville United\\rChurch\"}, {\"color\": \"TEAL\", \"id\": \"St. Martin Catholic\\rSchool\", \"label\": \"St. Martin Catholic\\rSchool\", \"shape\": \"dot\", \"title\": \"St. Martin Catholic\\rSchool\"}, {\"color\": \"TEAL\", \"id\": \"West Lincoln\\rChamber of\\rCommerce\", \"label\": \"West Lincoln\\rChamber of\\rCommerce\", \"shape\": \"dot\", \"title\": \"West Lincoln\\rChamber of\\rCommerce\"}, {\"color\": \"TEAL\", \"id\": \"West Lincoln\\rCommunity Care\", \"label\": \"West Lincoln\\rCommunity Care\", \"shape\": \"dot\", \"title\": \"West Lincoln\\rCommunity Care\"}, {\"color\": \"TEAL\", \"id\": \"Caistor Public\\rSchool\", \"label\": \"Caistor Public\\rSchool\", \"shape\": \"dot\", \"title\": \"Caistor Public\\rSchool\"}, {\"color\": \"TEAL\", \"id\": \"Kiwanis of West\\rLincoln\", \"label\": \"Kiwanis of West\\rLincoln\", \"shape\": \"dot\", \"title\": \"Kiwanis of West\\rLincoln\"}, {\"color\": \"TEAL\", \"id\": \"Smithville\\rFoodland\", \"label\": \"Smithville\\rFoodland\", \"shape\": \"dot\", \"title\": \"Smithville\\rFoodland\"}, {\"color\": \"TEAL\", \"id\": \"Township of West\\rLincoln\", \"label\": \"Township of West\\rLincoln\", \"shape\": \"dot\", \"title\": \"Township of West\\rLincoln\"}, {\"color\": \"maroon\", \"id\": \"Gateway Residential \\u0026 Community Support Services of\\rNiagara Inc.\", \"label\": \"Gateway Residential \\u0026 Community Support Services of\\rNiagara Inc.\", \"shape\": \"dot\", \"title\": \"Gateway Residential \\u0026 Community Support Services of\\rNiagara Inc.\"}, {\"color\": \"TEAL\", \"id\": \"YWCA\", \"label\": \"YWCA\", \"shape\": \"dot\", \"title\": \"YWCA\"}, {\"color\": \"TEAL\", \"id\": \"Bridges CHC\", \"label\": \"Bridges CHC\", \"shape\": \"dot\", \"title\": \"Bridges CHC\"}, {\"color\": \"TEAL\", \"id\": \"The Raft\", \"label\": \"The Raft\", \"shape\": \"dot\", \"title\": \"The Raft\"}, {\"color\": \"TEAL\", \"id\": \"NFCHC\", \"label\": \"NFCHC\", \"shape\": \"dot\", \"title\": \"NFCHC\"}, {\"color\": \"TEAL\", \"id\": \"Housing Help -\\rSt Catharines\", \"label\": \"Housing Help -\\rSt Catharines\", \"shape\": \"dot\", \"title\": \"Housing Help -\\rSt Catharines\"}, {\"color\": \"TEAL\", \"id\": \"Salvation Army\", \"label\": \"Salvation Army\", \"shape\": \"dot\", \"title\": \"Salvation Army\"}, {\"color\": \"maroon\", \"id\": \"Grimsby Benevolent Fund\", \"label\": \"Grimsby Benevolent Fund\", \"shape\": \"dot\", \"title\": \"Grimsby Benevolent Fund\"}, {\"color\": \"TEAL\", \"id\": \"YWCA\\rNiagara\\rRegion\", \"label\": \"YWCA\\rNiagara\\rRegion\", \"shape\": \"dot\", \"title\": \"YWCA\\rNiagara\\rRegion\"}, {\"color\": \"maroon\", \"id\": \"Heartland Forest Nature Experience\", \"label\": \"Heartland Forest Nature Experience\", \"shape\": \"dot\", \"title\": \"Heartland Forest Nature Experience\"}, {\"color\": \"TEAL\", \"id\": \"NTEC/NSS\", \"label\": \"NTEC/NSS\", \"shape\": \"dot\", \"title\": \"NTEC/NSS\"}, {\"color\": \"TEAL\", \"id\": \"March of Dimes\", \"label\": \"March of Dimes\", \"shape\": \"dot\", \"title\": \"March of Dimes\"}, {\"color\": \"TEAL\", \"id\": \"Saint Michael\\rHigh School\", \"label\": \"Saint Michael\\rHigh School\", \"shape\": \"dot\", \"title\": \"Saint Michael\\rHigh School\"}, {\"color\": \"TEAL\", \"id\": \"Shalom Manor\\rSenior Home\", \"label\": \"Shalom Manor\\rSenior Home\", \"shape\": \"dot\", \"title\": \"Shalom Manor\\rSenior Home\"}, {\"color\": \"TEAL\", \"id\": \"Niagara College\", \"label\": \"Niagara College\", \"shape\": \"dot\", \"title\": \"Niagara College\"}, {\"color\": \"TEAL\", \"id\": \"Ontario Power\\rGeneration\", \"label\": \"Ontario Power\\rGeneration\", \"shape\": \"dot\", \"title\": \"Ontario Power\\rGeneration\"}, {\"color\": \"TEAL\", \"id\": \"City of Niagara\\rFalls\", \"label\": \"City of Niagara\\rFalls\", \"shape\": \"dot\", \"title\": \"City of Niagara\\rFalls\"}, {\"color\": \"TEAL\", \"id\": \"Eventide\\rSenior\\u0027s Home\", \"label\": \"Eventide\\rSenior\\u0027s Home\", \"shape\": \"dot\", \"title\": \"Eventide\\rSenior\\u0027s Home\"}, {\"color\": \"TEAL\", \"id\": \"Queenston\\rPlace Senior\\u0027s\\rHome\", \"label\": \"Queenston\\rPlace Senior\\u0027s\\rHome\", \"shape\": \"dot\", \"title\": \"Queenston\\rPlace Senior\\u0027s\\rHome\"}, {\"color\": \"maroon\", \"id\": \"The Hope Centre\", \"label\": \"The Hope Centre\", \"shape\": \"dot\", \"title\": \"The Hope Centre\"}, {\"color\": \"TEAL\", \"id\": \"Canadian Mental Health\\rAssociation\", \"label\": \"Canadian Mental Health\\rAssociation\", \"shape\": \"dot\", \"title\": \"Canadian Mental Health\\rAssociation\"}, {\"color\": \"TEAL\", \"id\": \"YWCA of Niagara\", \"label\": \"YWCA of Niagara\", \"shape\": \"dot\", \"title\": \"YWCA of Niagara\"}, {\"color\": \"maroon\", \"id\": \"John Howard Society of Niagara\", \"label\": \"John Howard Society of Niagara\", \"shape\": \"dot\", \"title\": \"John Howard Society of Niagara\"}, {\"color\": \"TEAL\", \"id\": \"Welland Public Library\", \"label\": \"Welland Public Library\", \"shape\": \"dot\", \"title\": \"Welland Public Library\"}, {\"color\": \"TEAL\", \"id\": \"Port Colborne Public\\rLibrary\", \"label\": \"Port Colborne Public\\rLibrary\", \"shape\": \"dot\", \"title\": \"Port Colborne Public\\rLibrary\"}, {\"color\": \"TEAL\", \"id\": \"Thorold Public Library\", \"label\": \"Thorold Public Library\", \"shape\": \"dot\", \"title\": \"Thorold Public Library\"}, {\"color\": \"TEAL\", \"id\": \"Pelham Public Library\", \"label\": \"Pelham Public Library\", \"shape\": \"dot\", \"title\": \"Pelham Public Library\"}, {\"color\": \"TEAL\", \"id\": \"Family and Childrens\\rServices\", \"label\": \"Family and Childrens\\rServices\", \"shape\": \"dot\", \"title\": \"Family and Childrens\\rServices\"}, {\"color\": \"TEAL\", \"id\": \"Niagara Falls Community\\rHealth Centre\", \"label\": \"Niagara Falls Community\\rHealth Centre\", \"shape\": \"dot\", \"title\": \"Niagara Falls Community\\rHealth Centre\"}, {\"color\": \"TEAL\", \"id\": \"Niagara Peninsula\\rFoundation for Children\", \"label\": \"Niagara Peninsula\\rFoundation for Children\", \"shape\": \"dot\", \"title\": \"Niagara Peninsula\\rFoundation for Children\"}, {\"color\": \"TEAL\", \"id\": \"St. Catharines Library\", \"label\": \"St. Catharines Library\", \"shape\": \"dot\", \"title\": \"St. Catharines Library\"}, {\"color\": \"maroon\", \"id\": \"Links for Greener Learning\", \"label\": \"Links for Greener Learning\", \"shape\": \"dot\", \"title\": \"Links for Greener Learning\"}, {\"color\": \"TEAL\", \"id\": \"All partners are listed\\ron file attached\", \"label\": \"All partners are listed\\ron file attached\", \"shape\": \"dot\", \"title\": \"All partners are listed\\ron file attached\"}, {\"color\": \"TEAL\", \"id\": \"Food Share\", \"label\": \"Food Share\", \"shape\": \"dot\", \"title\": \"Food Share\"}, {\"color\": \"TEAL\", \"id\": \"Gateway and Bridges\", \"label\": \"Gateway and Bridges\", \"shape\": \"dot\", \"title\": \"Gateway and Bridges\"}, {\"color\": \"maroon\", \"id\": \"Project SHARE of Niagara Falls Inc.\", \"label\": \"Project SHARE of Niagara Falls Inc.\", \"shape\": \"dot\", \"title\": \"Project SHARE of Niagara Falls Inc.\"}, {\"color\": \"TEAL\", \"id\": \"Niagara Falls Public\\rLibrary\", \"label\": \"Niagara Falls Public\\rLibrary\", \"shape\": \"dot\", \"title\": \"Niagara Falls Public\\rLibrary\"}, {\"color\": \"TEAL\", \"id\": \"City of Niagara Falls,\\rGale Centre\", \"label\": \"City of Niagara Falls,\\rGale Centre\", \"shape\": \"dot\", \"title\": \"City of Niagara Falls,\\rGale Centre\"}, {\"color\": \"TEAL\", \"id\": \"Niagara Falls\\rCommunity Health\\rCentre\", \"label\": \"Niagara Falls\\rCommunity Health\\rCentre\", \"shape\": \"dot\", \"title\": \"Niagara Falls\\rCommunity Health\\rCentre\"}, {\"color\": \"TEAL\", \"id\": \"Positive Living\\rNiagara (Street\\rWorks)\", \"label\": \"Positive Living\\rNiagara (Street\\rWorks)\", \"shape\": \"dot\", \"title\": \"Positive Living\\rNiagara (Street\\rWorks)\"}, {\"color\": \"TEAL\", \"id\": \"St. Andrew\\u0027s United\\rChurch\", \"label\": \"St. Andrew\\u0027s United\\rChurch\", \"shape\": \"dot\", \"title\": \"St. Andrew\\u0027s United\\rChurch\"}, {\"color\": \"maroon\", \"id\": \"The RAFT\", \"label\": \"The RAFT\", \"shape\": \"dot\", \"title\": \"The RAFT\"}, {\"color\": \"TEAL\", \"id\": \"Niagara\\rRegional\\rHousing\", \"label\": \"Niagara\\rRegional\\rHousing\", \"shape\": \"dot\", \"title\": \"Niagara\\rRegional\\rHousing\"}, {\"color\": \"maroon\", \"id\": \"Start Me Up Niagara\", \"label\": \"Start Me Up Niagara\", \"shape\": \"dot\", \"title\": \"Start Me Up Niagara\"}, {\"color\": \"TEAL\", \"id\": \"Community Care\", \"label\": \"Community Care\", \"shape\": \"dot\", \"title\": \"Community Care\"}, {\"color\": \"TEAL\", \"id\": \"Niagara Furniture\\rBank\", \"label\": \"Niagara Furniture\\rBank\", \"shape\": \"dot\", \"title\": \"Niagara Furniture\\rBank\"}, {\"color\": \"TEAL\", \"id\": \"Dan Clark\", \"label\": \"Dan Clark\", \"shape\": \"dot\", \"title\": \"Dan Clark\"}, {\"color\": \"TEAL\", \"id\": \"Aduvo Homes\", \"label\": \"Aduvo Homes\", \"shape\": \"dot\", \"title\": \"Aduvo Homes\"}, {\"color\": \"maroon\", \"id\": \"Southridge Shelter\", \"label\": \"Southridge Shelter\", \"shape\": \"dot\", \"title\": \"Southridge Shelter\"}, {\"color\": \"TEAL\", \"id\": \"Leaders for\\rLeaders\", \"label\": \"Leaders for\\rLeaders\", \"shape\": \"dot\", \"title\": \"Leaders for\\rLeaders\"}, {\"color\": \"TEAL\", \"id\": \"Ontario Works\", \"label\": \"Ontario Works\", \"shape\": \"dot\", \"title\": \"Ontario Works\"}, {\"color\": \"TEAL\", \"id\": \"Made by\\rFrame\", \"label\": \"Made by\\rFrame\", \"shape\": \"dot\", \"title\": \"Made by\\rFrame\"}, {\"color\": \"TEAL\", \"id\": \"YMCA\\rEmployment\\rServices\", \"label\": \"YMCA\\rEmployment\\rServices\", \"shape\": \"dot\", \"title\": \"YMCA\\rEmployment\\rServices\"}, {\"color\": \"TEAL\", \"id\": \"Good Will\\rNiagara\", \"label\": \"Good Will\\rNiagara\", \"shape\": \"dot\", \"title\": \"Good Will\\rNiagara\"}, {\"color\": \"maroon\", \"id\": \"Strive Niagara\", \"label\": \"Strive Niagara\", \"shape\": \"dot\", \"title\": \"Strive Niagara\"}, {\"color\": \"TEAL\", \"id\": \"Niagara Catholic District\\rSchool Board\", \"label\": \"Niagara Catholic District\\rSchool Board\", \"shape\": \"dot\", \"title\": \"Niagara Catholic District\\rSchool Board\"}, {\"color\": \"TEAL\", \"id\": \"District School Board of\\rNiagara\", \"label\": \"District School Board of\\rNiagara\", \"shape\": \"dot\", \"title\": \"District School Board of\\rNiagara\"}, {\"color\": \"TEAL\", \"id\": \"Pathstone Mental Health\", \"label\": \"Pathstone Mental Health\", \"shape\": \"dot\", \"title\": \"Pathstone Mental Health\"}, {\"color\": \"TEAL\", \"id\": \"Infant Mental Health\\rPromotions/Sick Kids\\rHospital\", \"label\": \"Infant Mental Health\\rPromotions/Sick Kids\\rHospital\", \"shape\": \"dot\", \"title\": \"Infant Mental Health\\rPromotions/Sick Kids\\rHospital\"}, {\"color\": \"TEAL\", \"id\": \"Attach Trauma and\\rTreatment Centre\", \"label\": \"Attach Trauma and\\rTreatment Centre\", \"shape\": \"dot\", \"title\": \"Attach Trauma and\\rTreatment Centre\"}, {\"color\": \"TEAL\", \"id\": \"Welland Neighbourhood\\rProject\", \"label\": \"Welland Neighbourhood\\rProject\", \"shape\": \"dot\", \"title\": \"Welland Neighbourhood\\rProject\"}, {\"color\": \"TEAL\", \"id\": \"Public Health\", \"label\": \"Public Health\", \"shape\": \"dot\", \"title\": \"Public Health\"}, {\"color\": \"maroon\", \"id\": \"Third Space Cafe\", \"label\": \"Third Space Cafe\", \"shape\": \"dot\", \"title\": \"Third Space Cafe\"}, {\"color\": \"TEAL\", \"id\": \"NTEC\", \"label\": \"NTEC\", \"shape\": \"dot\", \"title\": \"NTEC\"}, {\"color\": \"TEAL\", \"id\": \"Tree of\\rStars\", \"label\": \"Tree of\\rStars\", \"shape\": \"dot\", \"title\": \"Tree of\\rStars\"}, {\"color\": \"TEAL\", \"id\": \"Simon\\u0027s\\rSimple\\rBuns\", \"label\": \"Simon\\u0027s\\rSimple\\rBuns\", \"shape\": \"dot\", \"title\": \"Simon\\u0027s\\rSimple\\rBuns\"}, {\"color\": \"maroon\", \"id\": \"Welland Heritage Council and Multicultural Centre\", \"label\": \"Welland Heritage Council and Multicultural Centre\", \"shape\": \"dot\", \"title\": \"Welland Heritage Council and Multicultural Centre\"}, {\"color\": \"TEAL\", \"id\": \"Brick Properties\", \"label\": \"Brick Properties\", \"shape\": \"dot\", \"title\": \"Brick Properties\"}, {\"color\": \"TEAL\", \"id\": \"Broken Spokes (Port\\rColborne High School)\", \"label\": \"Broken Spokes (Port\\rColborne High School)\", \"shape\": \"dot\", \"title\": \"Broken Spokes (Port\\rColborne High School)\"}, {\"color\": \"maroon\", \"id\": \"Westview Christian Fellowship\", \"label\": \"Westview Christian Fellowship\", \"shape\": \"dot\", \"title\": \"Westview Christian Fellowship\"}, {\"color\": \"TEAL\", \"id\": \"Niagara Region\\rOntario Works\", \"label\": \"Niagara Region\\rOntario Works\", \"shape\": \"dot\", \"title\": \"Niagara Region\\rOntario Works\"}, {\"color\": \"TEAL\", \"id\": \"Real Work Canadian\\rMental Health Ass.\", \"label\": \"Real Work Canadian\\rMental Health Ass.\", \"shape\": \"dot\", \"title\": \"Real Work Canadian\\rMental Health Ass.\"}, {\"color\": \"TEAL\", \"id\": \"Food Rescue\", \"label\": \"Food Rescue\", \"shape\": \"dot\", \"title\": \"Food Rescue\"}, {\"color\": \"TEAL\", \"id\": \"Brock University\", \"label\": \"Brock University\", \"shape\": \"dot\", \"title\": \"Brock University\"}, {\"color\": \"TEAL\", \"id\": \"Susanne Hutchings\", \"label\": \"Susanne Hutchings\", \"shape\": \"dot\", \"title\": \"Susanne Hutchings\"}, {\"color\": \"TEAL\", \"id\": \"Dr Perez\", \"label\": \"Dr Perez\", \"shape\": \"dot\", \"title\": \"Dr Perez\"}, {\"color\": \"TEAL\", \"id\": \"Niagara United\\rMennonite Church\", \"label\": \"Niagara United\\rMennonite Church\", \"shape\": \"dot\", \"title\": \"Niagara United\\rMennonite Church\"}, {\"color\": \"TEAL\", \"id\": \"Susanne\\rHutchings\", \"label\": \"Susanne\\rHutchings\", \"shape\": \"dot\", \"title\": \"Susanne\\rHutchings\"}, {\"color\": \"TEAL\", \"id\": \"Dr. Perez\", \"label\": \"Dr. Perez\", \"shape\": \"dot\", \"title\": \"Dr. Perez\"}, {\"color\": \"TEAL\", \"id\": \"Real Work\\rCanadian Mental\\rHealth\", \"label\": \"Real Work\\rCanadian Mental\\rHealth\", \"shape\": \"dot\", \"title\": \"Real Work\\rCanadian Mental\\rHealth\"}, {\"color\": \"TEAL\", \"id\": \"Hep C Clinic\", \"label\": \"Hep C Clinic\", \"shape\": \"dot\", \"title\": \"Hep C Clinic\"}, {\"color\": \"TEAL\", \"id\": \"Rykert Community\\rCentre\", \"label\": \"Rykert Community\\rCentre\", \"shape\": \"dot\", \"title\": \"Rykert Community\\rCentre\"}, {\"color\": \"TEAL\", \"id\": \"Dr.Perez\", \"label\": \"Dr.Perez\", \"shape\": \"dot\", \"title\": \"Dr.Perez\"}]);\n",
              "        edges = new vis.DataSet([{\"from\": \"Community Care St. Catharines and Thorold\", \"title\": \"oversee budget, disperse funds; compo;e\\rdata, reports as required, deliver program\\rto agency clients\", \"to\": \"Community\\rCare St.\\rCatharines \\u0026\\rThorold\"}, {\"from\": \"Community Care St. Catharines and Thorold\", \"title\": \"Receive \\u0026 process applications,\\rimplement loan plan, payment of local\\rservice providers\", \"to\": \"The Hope\\rCentre\"}, {\"from\": \"Community Care St. Catharines and Thorold\", \"title\": \"Receive \\u0026 process applications,\\rimplement loan plan, payment of local\\rservice providers\", \"to\": \"Bridges\\rCommunity\\rHealth Centre\"}, {\"from\": \"Community Care St. Catharines and Thorold\", \"title\": \"Receive \\u0026 process applications,\\rimplement loan plan, payment of local\\rservice providers\", \"to\": \"Community\\rCare of West\\rNiagara\"}, {\"from\": \"Community Care St. Catharines and Thorold\", \"title\": \"Receive \\u0026 process applications,\\rimplement loan plan, payment of local\\rservice providers\", \"to\": \"Project Share\"}, {\"from\": \"Community Care St. Catharines and Thorold\", \"title\": \"Receive \\u0026 process applications,\\rimplement loan plan, payment of local\\rservice providers\", \"to\": \"Start Me Up\\rNiagara\"}, {\"from\": \"Centre de sant\\u00e9 communautaire Hamilton / Niagara\", \"title\": \"Use of their facilities\", \"to\": \"Foyer Richelieu\"}, {\"from\": \"Centre de sant\\u00e9 communautaire Hamilton / Niagara\", \"title\": \"Promotion on their different platforms\", \"to\": \"Journal Le R\\u00e9gional\"}, {\"from\": \"Centre de sant\\u00e9 communautaire Hamilton / Niagara\", \"title\": \"Promotion on their different platforms\", \"to\": \"Niagara Knowledge\\rConnects\"}, {\"from\": \"Canadian Mental Health Association Niagara Branch\", \"title\": \"CASON will be providing a full-time Addiction Coach\\runder their supervision\", \"to\": \"Community Addiction\\rServices of Niagara\"}, {\"from\": \"Canadian Mental Health Association Niagara Branch\", \"title\": \"The project will be located at the YWCA Niagara\\rRegion shelters and Transitional Housing program.\", \"to\": \"YWCA of Niagara\\rRegion\"}, {\"from\": \"Canadian Mental Health Association Niagara Branch\", \"title\": \"CMHA Niagara will be providing a full-time Mental\\rHealth Coach under their supervision.\", \"to\": \"Canadian Mental\\rHealth Association\"}, {\"from\": \"Community Living Port Colborne~Wainfleet\", \"title\": \"will be offering camp at a reduced rate for any child\\rsupported by CLPCW\", \"to\": \"HEARTLAND\\rFOREST\"}, {\"from\": \"Community Living Port Colborne~Wainfleet\", \"title\": \"will be offering camp at a reduced rate for any child\\rsupported by CLPCW\", \"to\": \"I CANTER\"}, {\"from\": \"Community Living Port Colborne~Wainfleet\", \"title\": \"will be offering camp at a reduced rate for any child\\rsupported by CLPCW\", \"to\": \"YMCA\"}, {\"from\": \"Employment Help Centre\", \"title\": \"Host pilot program at 2-acre farm, provide transportation and\\rhost workshops at Work Action Centre\", \"to\": \"Start Me\\rUp Niagara\"}, {\"from\": \"Food4Kids Niagara\", \"title\": \"Contribute through identifying and referring children in\\rneed, participating in outcome evaluation\", \"to\": \"District School Board\\rof Niagara\"}, {\"from\": \"Food4Kids Niagara\", \"title\": \"Contribute through identifying and referring children in\\rneed, participating in outcome evaluation\", \"to\": \"Niagara Catholic\\rDistrict School Board\"}, {\"from\": \"Food4Kids Niagara\", \"title\": \"Community gardens donate produce for use in the\\rprogram\", \"to\": \"Community Gardens\"}, {\"from\": \"FORT\", \"title\": \"The EHC works closely with the FORT to enhance our\\rjob search and resume building programs.\", \"to\": \"Employment Help\\rCentre\"}, {\"from\": \"FORT\", \"title\": \"Provides the FORT with our Smithville location without\\rcharging rent\", \"to\": \"Smithville United\\rChurch\"}, {\"from\": \"FORT\", \"title\": \"Promotes FORT programs to students, allows FORT to\\rdo youth outreach.\", \"to\": \"St. Martin Catholic\\rSchool\"}, {\"from\": \"FORT\", \"title\": \"Supports FORT through fundraising efforts and\\rencouraging member businesses to get involved\", \"to\": \"West Lincoln\\rChamber of\\rCommerce\"}, {\"from\": \"FORT\", \"title\": \"Offers unique volunteer opportunities for youth and\\rteaches them about giving back to the community\", \"to\": \"West Lincoln\\rCommunity Care\"}, {\"from\": \"FORT\", \"title\": \"Promotes FORT programs to students, allows FORT to\\rdo youth outreach.\", \"to\": \"Caistor Public\\rSchool\"}, {\"from\": \"FORT\", \"title\": \"Supports the FORT through fundraising efforts and\\rencourages members to volunteer.\", \"to\": \"Kiwanis of West\\rLincoln\"}, {\"from\": \"FORT\", \"title\": \"Donates food for FORT programs\", \"to\": \"Smithville\\rFoodland\"}, {\"from\": \"FORT\", \"title\": \"Provides Caistor location at reduced rate, assists with\\rmaintenance and repairs for free.\", \"to\": \"Township of West\\rLincoln\"}, {\"from\": \"Gateway Residential \\u0026 Community Support Services of\\rNiagara Inc.\", \"title\": \"A referral source for the outreach worker. The worker will\\ralso be able to refer to them forhousing\", \"to\": \"YWCA\"}, {\"from\": \"Gateway Residential \\u0026 Community Support Services of\\rNiagara Inc.\", \"title\": \"Identify high risk individuals \\u0026 develop strategies to\\raddress chronic homelessness\", \"to\": \"Bridges CHC\"}, {\"from\": \"Gateway Residential \\u0026 Community Support Services of\\rNiagara Inc.\", \"title\": \"Identify high risk Youth \\u0026 develop strategies to address\\rchronic homelessness and prevention\", \"to\": \"The Raft\"}, {\"from\": \"Gateway Residential \\u0026 Community Support Services of\\rNiagara Inc.\", \"title\": \"Identify high risk individuals \\u0026 develop strategies to\\raddress chronic homelessness\", \"to\": \"NFCHC\"}, {\"from\": \"Gateway Residential \\u0026 Community Support Services of\\rNiagara Inc.\", \"title\": \"Partnership for delivery of services, as well as a service\\rprovider to assist clients\", \"to\": \"Start Me Up\\rNiagara\"}, {\"from\": \"Gateway Residential \\u0026 Community Support Services of\\rNiagara Inc.\", \"title\": \"Housing support services for outreach clients, partnership\\rfor delivery of services\", \"to\": \"Housing Help -\\rSt Catharines\"}, {\"from\": \"Gateway Residential \\u0026 Community Support Services of\\rNiagara Inc.\", \"title\": \"Partnership for delivery of services, partner to identify\\rchronic homelessness\", \"to\": \"Salvation Army\"}, {\"from\": \"Grimsby Benevolent Fund\", \"title\": \"Identifies families and individuals that would benefit as\\rwell as providing ongoing support.\", \"to\": \"YWCA\\rNiagara\\rRegion\"}, {\"from\": \"Heartland Forest Nature Experience\", \"title\": \"Referral \\u0026 employment support services PLUS NTEC\\rwill\\rcollaborate on new social enterprise projects.\", \"to\": \"NTEC/NSS\"}, {\"from\": \"Heartland Forest Nature Experience\", \"title\": \"Referral service and employment support services.\", \"to\": \"March of Dimes\"}, {\"from\": \"Heartland Forest Nature Experience\", \"title\": \"CONTINUED URGENT NEED. We will work with all 5\\rarea high schools.\", \"to\": \"Saint Michael\\rHigh School\"}, {\"from\": \"Heartland Forest Nature Experience\", \"title\": \"Grimsby based senior home - willing to make the\\rdrive to experience our unique workshop.\", \"to\": \"Shalom Manor\\rSenior Home\"}, {\"from\": \"Heartland Forest Nature Experience\", \"title\": \"Placement students for fall and winter terms to assist\\rwith\\rprogram updates and marketing plans.\", \"to\": \"Niagara College\"}, {\"from\": \"Heartland Forest Nature Experience\", \"title\": \"Partners in poverty awareness campaigns and\\rinformation sharing - value of in kind materials is\\r$250\", \"to\": \"Project Share\"}, {\"from\": \"Heartland Forest Nature Experience\", \"title\": \"Committed industry partner - will contract for wood\\rshop products\", \"to\": \"Ontario Power\\rGeneration\"}, {\"from\": \"Heartland Forest Nature Experience\", \"title\": \"Committed industry partner - will contract for wood\\rshop products; provide community placements\", \"to\": \"City of Niagara\\rFalls\"}, {\"from\": \"Heartland Forest Nature Experience\", \"title\": \"Excited to participate in a wood working workshop\\rplanned and executed by our work experience team\", \"to\": \"Eventide\\rSenior\\u0027s Home\"}, {\"from\": \"Heartland Forest Nature Experience\", \"title\": \"Excited to participate in a wood working workshop\\rplanned and executed by our work experience team\", \"to\": \"Queenston\\rPlace Senior\\u0027s\\rHome\"}, {\"from\": \"The Hope Centre\", \"title\": \"Client referral\", \"to\": \"Canadian Mental Health\\rAssociation\"}, {\"from\": \"The Hope Centre\", \"title\": \"Client referral\", \"to\": \"YWCA of Niagara\"}, {\"from\": \"John Howard Society of Niagara\", \"title\": \"Provide space for the JHS Staff to\\rconnect with clients\\rHelp to support and provide\\rresources.\", \"to\": \"Welland Public Library\"}, {\"from\": \"John Howard Society of Niagara\", \"title\": \"Provide space for the JHS Staff to\\rconnect with clients\\rHelp to support and provide\\rresources.\", \"to\": \"Port Colborne Public\\rLibrary\"}, {\"from\": \"John Howard Society of Niagara\", \"title\": \"Provide space for the JHS Staff to\\rconnect with clients\\rHelp to support and provide\\rresources.\", \"to\": \"Thorold Public Library\"}, {\"from\": \"John Howard Society of Niagara\", \"title\": \"Provide space for the JHS Staff to\\rconnect with clients\\rHelp to support and provide\\rresources.\", \"to\": \"Pelham Public Library\"}, {\"from\": \"John Howard Society of Niagara\", \"title\": \"Provide facilitators to run sessions\\rfor the program\\rProvide knowledge on families in\\rthe program\", \"to\": \"Family and Childrens\\rServices\"}, {\"from\": \"John Howard Society of Niagara\", \"title\": \"Provide space to run the program\\rin Niagara Falls\\rProvide support for program\\rHelp with resources\", \"to\": \"Niagara Falls Community\\rHealth Centre\"}, {\"from\": \"John Howard Society of Niagara\", \"title\": \"Support the program through\\rAdopt a Family at Christmas\", \"to\": \"Niagara Peninsula\\rFoundation for Children\"}, {\"from\": \"John Howard Society of Niagara\", \"title\": \"Provide space for the JHS Staff to\\rconnect with clients\\rHelp to support and provide\\rresources.\", \"to\": \"St. Catharines Library\"}, {\"from\": \"Links for Greener Learning\", \"title\": \"We have 16 host sites throughout Niagara region.\", \"to\": \"All partners are listed\\ron file attached\"}, {\"from\": \"Links for Greener Learning\", \"title\": \"Foodshare is working with us to help improve the\\rprogram structure and delivery.\", \"to\": \"Food Share\"}, {\"from\": \"Links for Greener Learning\", \"title\": \"Are working with us to deliver other aspects of the\\rprogram, such as community outreach.\", \"to\": \"Gateway and Bridges\"}, {\"from\": \"Project SHARE of Niagara Falls Inc.\", \"title\": \"Many homeless individuals use the library for daytime\\rshelter \\u0026 program info will be shared here.\", \"to\": \"Niagara Falls Public\\rLibrary\"}, {\"from\": \"Project SHARE of Niagara Falls Inc.\", \"title\": \"Showers \\u0026 daytime shelter offered for homeless clients.\\rReferrals will be made to \\u0026 from the ICM.\", \"to\": \"City of Niagara Falls,\\rGale Centre\"}, {\"from\": \"Project SHARE of Niagara Falls Inc.\", \"title\": \"Referrals will be made between agencies to better serve\\rthe homeless population.\", \"to\": \"Niagara Falls\\rCommunity Health\\rCentre\"}, {\"from\": \"Project SHARE of Niagara Falls Inc.\", \"title\": \"Harm reduction supplies will be available at Project\\rSHARE \\u0026 referrals made between the agencies\", \"to\": \"Positive Living\\rNiagara (Street\\rWorks)\"}, {\"from\": \"Project SHARE of Niagara Falls Inc.\", \"title\": \"The church hosts our Out of the Cold program, provides\\rclothing \\u0026 meals for clients of ICM program\", \"to\": \"St. Andrew\\u0027s United\\rChurch\"}, {\"from\": \"The RAFT\", \"title\": \"NRH will advise on opportunities within their communities\\rand will place the raft on their approved contractor list.\", \"to\": \"Niagara\\rRegional\\rHousing\"}, {\"from\": \"Start Me Up Niagara\", \"title\": \"Trusteeships, food bank, support, collaboration with\\rcomplex cases\", \"to\": \"Community Care\"}, {\"from\": \"Start Me Up Niagara\", \"title\": \"Housewares, furniture\", \"to\": \"Niagara Furniture\\rBank\"}, {\"from\": \"Start Me Up Niagara\", \"title\": \"Landlord\", \"to\": \"Dan Clark\"}, {\"from\": \"Start Me Up Niagara\", \"title\": \"Landlord\", \"to\": \"Aduvo Homes\"}, {\"from\": \"Southridge Shelter\", \"title\": \"Tim Arnold will provide support to development of\\rparticipants through soft skills training.\", \"to\": \"Leaders for\\rLeaders\"}, {\"from\": \"Southridge Shelter\", \"title\": \"SJC have informal access to support from OW worker\\ron site at Southridge Shelter each week.\", \"to\": \"Ontario Works\"}, {\"from\": \"Southridge Shelter\", \"title\": \"Made By Frame provides on-going web and e-\\rcommerce support to allow SJC to market our\\rproducts.\", \"to\": \"Made by\\rFrame\"}, {\"from\": \"Southridge Shelter\", \"title\": \"The partnership for warm transfers/referrals will be\\rfinalized after this application is submitted.\", \"to\": \"YMCA\\rEmployment\\rServices\"}, {\"from\": \"Southridge Shelter\", \"title\": \"The partnership for warm transfers/referrals will be\\rfinalized after this application is submitted.\", \"to\": \"Good Will\\rNiagara\"}, {\"from\": \"Strive Niagara\", \"title\": \"They provide a teacher in our Niagara Falls\\ralternative classroom to teach high school\\rcredits.\", \"to\": \"Niagara Catholic District\\rSchool Board\"}, {\"from\": \"Strive Niagara\", \"title\": \"They provide a teacher in Welland/St.\\rCatharines alternative class to teach high school\\rcredits.\", \"to\": \"District School Board of\\rNiagara\"}, {\"from\": \"Strive Niagara\", \"title\": \"They provide financial services, HR and clinical\\rsupports.\", \"to\": \"Pathstone Mental Health\"}, {\"from\": \"Strive Niagara\", \"title\": \"IMH will act as a resource for staff in regards to\\rthe implementation of the ASQ tools\", \"to\": \"Infant Mental Health\\rPromotions/Sick Kids\\rHospital\"}, {\"from\": \"Strive Niagara\", \"title\": \"To provide professional supports and education\\rto Strive staff.\", \"to\": \"Attach Trauma and\\rTreatment Centre\"}, {\"from\": \"Strive Niagara\", \"title\": \"Works in partnership with Strive to build capacity\\rin the Welland/Cordage Neighbourhood.\", \"to\": \"Welland Neighbourhood\\rProject\"}, {\"from\": \"Strive Niagara\", \"title\": \"Public Health provides facilitation on health and\\rwellness to Strive Participants.\", \"to\": \"Public Health\"}, {\"from\": \"Third Space Cafe\", \"title\": \"Facilitate the placement of clients with disabilities in part-time\\rpositions at TSC \\u0026 offer support\", \"to\": \"NTEC\"}, {\"from\": \"Third Space Cafe\", \"title\": \"provide mentorship and project coaching to develop peer-\\rsupport and safe space training\", \"to\": \"Tree of\\rStars\"}, {\"from\": \"Third Space Cafe\", \"title\": \"Source donated local produce for community cooking classes\\rand expand the SC program to offer soup\", \"to\": \"Simon\\u0027s\\rSimple\\rBuns\"}, {\"from\": \"Welland Heritage Council and Multicultural Centre\", \"title\": \"Refer newcomer clients to us, provide food for shelter\\rclients, \\u0026 assist with hydro deposit program.\", \"to\": \"The Hope Centre\"}, {\"from\": \"Welland Heritage Council and Multicultural Centre\", \"title\": \"Brick Properties will work with WHCMC to help clients\\rfind \\u0026 secure safe and affordable housing.\", \"to\": \"Brick Properties\"}, {\"from\": \"Welland Heritage Council and Multicultural Centre\", \"title\": \"Broken Spokes will work with WHCMC to provide low-\\rcost bicycles to clients in the WHCMC shelter.\", \"to\": \"Broken Spokes (Port\\rColborne High School)\"}, {\"from\": \"Westview Christian Fellowship\", \"title\": \"OW Worker/ WC4W \\u0026 client work together to conquer\\rbarriers around employment / housing etc\", \"to\": \"Niagara Region\\rOntario Works\"}, {\"from\": \"Westview Christian Fellowship\", \"title\": \"Real Work / WC4W \\u0026 client work together to help those\\rwith mental health issues etc, secure jobs\", \"to\": \"Real Work Canadian\\rMental Health Ass.\"}, {\"from\": \"Westview Christian Fellowship\", \"title\": \"Providing food to help us lower costs of providing meals\\rand cooking classes\", \"to\": \"Food Rescue\"}, {\"from\": \"Westview Christian Fellowship\", \"title\": \"Nurses work to create solid, on going solutions to issues\\rthat are creating barriers for women\", \"to\": \"Brock University\"}, {\"from\": \"Westview Christian Fellowship\", \"title\": \"Community Champion bringing down the barrier of\\remployment through cleaning, repair, self esteem\", \"to\": \"Susanne Hutchings\"}, {\"from\": \"Westview Christian Fellowship\", \"title\": \"Psychiatrist who recognizes / supports the work we do\\ras part of the mental health community.\", \"to\": \"Dr Perez\"}, {\"from\": \"Westview Christian Fellowship\", \"title\": \"Provides and supports our need for food, bus tickets,\\rclothing, etc\", \"to\": \"Niagara United\\rMennonite Church\"}, {\"from\": \"Westview Christian Fellowship\", \"title\": \"Dental hygenist and often support and direction to other\\rdental work needed\", \"to\": \"Susanne\\rHutchings\"}, {\"from\": \"Westview Christian Fellowship\", \"title\": \"mental illness and sex trade often go hand in hand support\\rof medical care / direction is given\", \"to\": \"Dr. Perez\"}, {\"from\": \"Westview Christian Fellowship\", \"title\": \"realwork/WC4W \\u0026 client work to help those struggling with\\rmental health etc to secure employment\", \"to\": \"Real Work\\rCanadian Mental\\rHealth\"}, {\"from\": \"Westview Christian Fellowship\", \"title\": \"Provides testing, knowledge, support to those who have/\\rmay have Hep C.\", \"to\": \"Hep C Clinic\"}, {\"from\": \"Westview Christian Fellowship\", \"title\": \"We connect to community centres, create support, increase\\rengagement. Went on retreats with Rykert\", \"to\": \"Rykert Community\\rCentre\"}, {\"from\": \"Westview Christian Fellowship\", \"title\": \"This Dr. supports us through his connections with mental\\rhealth and many other psychiatrists\", \"to\": \"Dr.Perez\"}]);\n",
              "\n",
              "        // adding nodes and edges to the graph\n",
              "        data = {nodes: nodes, edges: edges};\n",
              "\n",
              "        var options = {\n",
              "    \"configure\": {\n",
              "        \"enabled\": false\n",
              "    },\n",
              "    \"edges\": {\n",
              "        \"color\": {\n",
              "            \"inherit\": true\n",
              "        },\n",
              "        \"smooth\": {\n",
              "            \"enabled\": false,\n",
              "            \"type\": \"continuous\"\n",
              "        }\n",
              "    },\n",
              "    \"interaction\": {\n",
              "        \"dragNodes\": true,\n",
              "        \"hideEdgesOnDrag\": false,\n",
              "        \"hideNodesOnDrag\": false\n",
              "    },\n",
              "    \"physics\": {\n",
              "        \"enabled\": true,\n",
              "        \"stabilization\": {\n",
              "            \"enabled\": true,\n",
              "            \"fit\": true,\n",
              "            \"iterations\": 1000,\n",
              "            \"onlyDynamicEdges\": false,\n",
              "            \"updateInterval\": 50\n",
              "        }\n",
              "    }\n",
              "};\n",
              "        \n",
              "        \n",
              "\n",
              "        \n",
              "\n",
              "        network = new vis.Network(container, data, options);\n",
              "\n",
              "        \n",
              "\n",
              "\n",
              "        \n",
              "        network.on(\"stabilizationProgress\", function(params) {\n",
              "      \t\tdocument.getElementById('loadingBar').removeAttribute(\"style\");\n",
              "\t        var maxWidth = 496;\n",
              "\t        var minWidth = 20;\n",
              "\t        var widthFactor = params.iterations/params.total;\n",
              "\t        var width = Math.max(minWidth,maxWidth * widthFactor);\n",
              "\n",
              "\t        document.getElementById('bar').style.width = width + 'px';\n",
              "\t        document.getElementById('text').innerHTML = Math.round(widthFactor*100) + '%';\n",
              "\t    });\n",
              "\t    network.once(\"stabilizationIterationsDone\", function() {\n",
              "\t        document.getElementById('text').innerHTML = '100%';\n",
              "\t        document.getElementById('bar').style.width = '496px';\n",
              "\t        document.getElementById('loadingBar').style.opacity = 0;\n",
              "\t        // really clean the dom element\n",
              "\t        setTimeout(function () {document.getElementById('loadingBar').style.display = 'none';}, 500);\n",
              "\t    });\n",
              "        \n",
              "\n",
              "        return network;\n",
              "\n",
              "    }\n",
              "\n",
              "    drawGraph();\n",
              "\n",
              "</script>\n",
              "</body>\n",
              "</html>"
            ],
            "text/plain": [
              "<IPython.core.display.HTML object>"
            ]
          },
          "metadata": {
            "tags": []
          },
          "execution_count": 86
        }
      ]
    },
    {
      "cell_type": "code",
      "metadata": {
        "id": "lreSOhiHtBRL",
        "colab_type": "code",
        "colab": {
          "base_uri": "https://localhost:8080/",
          "height": 667
        },
        "outputId": "40a1eb65-a14e-4025-a17f-bf9d42df34f8"
      },
      "source": [
        "df = Ddf\n",
        "\n",
        "Dhtml = pandasnet(Ddf,'corp', 'partner','role', htmlname='decline.html')\n",
        "IPython.display.HTML(Dhtml)"
      ],
      "execution_count": 87,
      "outputs": [
        {
          "output_type": "stream",
          "text": [
            "/usr/local/lib/python3.6/dist-packages/pandas/core/generic.py:6245: SettingWithCopyWarning: \n",
            "A value is trying to be set on a copy of a slice from a DataFrame\n",
            "\n",
            "See the caveats in the documentation: https://pandas.pydata.org/pandas-docs/stable/user_guide/indexing.html#returning-a-view-versus-a-copy\n",
            "  self._update_inplace(new_data)\n"
          ],
          "name": "stderr"
        },
        {
          "output_type": "execute_result",
          "data": {
            "text/html": [
              "<html>\n",
              "<head>\n",
              "<link rel=\"stylesheet\" href=\"https://cdnjs.cloudflare.com/ajax/libs/vis/4.16.1/vis.css\" type=\"text/css\" />\n",
              "<script type=\"text/javascript\" src=\"https://cdnjs.cloudflare.com/ajax/libs/vis/4.16.1/vis-network.min.js\"> </script>\n",
              "<center>\n",
              "<h1>None</h1>\n",
              "</center>\n",
              "\n",
              "<!-- <link rel=\"stylesheet\" href=\"../node_modules/vis/dist/vis.min.css\" type=\"text/css\" />\n",
              "<script type=\"text/javascript\" src=\"../node_modules/vis/dist/vis.js\"> </script>-->\n",
              "\n",
              "<style type=\"text/css\">\n",
              "\n",
              "        #mynetwork {\n",
              "            width: 1000px;\n",
              "            height: 500px;\n",
              "            background-color: #ffffff;\n",
              "            border: 1px solid lightgray;\n",
              "            position: relative;\n",
              "            float: left;\n",
              "        }\n",
              "\n",
              "        \n",
              "\n",
              "        \n",
              "\n",
              "        \n",
              "</style>\n",
              "\n",
              "</head>\n",
              "\n",
              "<body>\n",
              "<div id = \"mynetwork\"></div>\n",
              "\n",
              "\n",
              "<script type=\"text/javascript\">\n",
              "\n",
              "    // initialize global variables.\n",
              "    var edges;\n",
              "    var nodes;\n",
              "    var network; \n",
              "    var container;\n",
              "    var options, data;\n",
              "\n",
              "    \n",
              "    // This method is responsible for drawing the graph, returns the drawn network\n",
              "    function drawGraph() {\n",
              "        var container = document.getElementById('mynetwork');\n",
              "        \n",
              "        \n",
              "\n",
              "        // parsing and collecting nodes and edges from the python\n",
              "        nodes = new vis.DataSet([{\"color\": \"maroon\", \"id\": \"Brain Injury Association of Niagara\", \"label\": \"Brain Injury Association of Niagara\", \"shape\": \"dot\", \"title\": \"Brain Injury Association of Niagara\"}, {\"color\": \"TEAL\", \"id\": \"OBIA\", \"label\": \"OBIA\", \"shape\": \"dot\", \"title\": \"OBIA\"}, {\"color\": \"TEAL\", \"id\": \"Bayshore\", \"label\": \"Bayshore\", \"shape\": \"dot\", \"title\": \"Bayshore\"}, {\"color\": \"TEAL\", \"id\": \"ABION\", \"label\": \"ABION\", \"shape\": \"dot\", \"title\": \"ABION\"}, {\"color\": \"TEAL\", \"id\": \"Brain Injury\\rCommunity Re-\\rEntry\", \"label\": \"Brain Injury\\rCommunity Re-\\rEntry\", \"shape\": \"dot\", \"title\": \"Brain Injury\\rCommunity Re-\\rEntry\"}, {\"color\": \"TEAL\", \"id\": \"Lear\\rCommunications\", \"label\": \"Lear\\rCommunications\", \"shape\": \"dot\", \"title\": \"Lear\\rCommunications\"}, {\"color\": \"TEAL\", \"id\": \"BDH\\rRehabilitation\", \"label\": \"BDH\\rRehabilitation\", \"shape\": \"dot\", \"title\": \"BDH\\rRehabilitation\"}, {\"color\": \"TEAL\", \"id\": \"Bieman Copland\\rand Associates\", \"label\": \"Bieman Copland\\rand Associates\", \"shape\": \"dot\", \"title\": \"Bieman Copland\\rand Associates\"}, {\"color\": \"TEAL\", \"id\": \"Literacy Link\\rNiagara\", \"label\": \"Literacy Link\\rNiagara\", \"shape\": \"dot\", \"title\": \"Literacy Link\\rNiagara\"}, {\"color\": \"maroon\", \"id\": \"Community Care St. Catharines and Thorold\", \"label\": \"Community Care St. Catharines and Thorold\", \"shape\": \"dot\", \"title\": \"Community Care St. Catharines and Thorold\"}, {\"color\": \"TEAL\", \"id\": \"Start Me UP Niagara\", \"label\": \"Start Me UP Niagara\", \"shape\": \"dot\", \"title\": \"Start Me UP Niagara\"}, {\"color\": \"TEAL\", \"id\": \"Gateway Residential \\u0026\\rCommunity Support Services\", \"label\": \"Gateway Residential \\u0026\\rCommunity Support Services\", \"shape\": \"dot\", \"title\": \"Gateway Residential \\u0026\\rCommunity Support Services\"}, {\"color\": \"maroon\", \"id\": \"Niagara Folk Arts Multicultural Centre\", \"label\": \"Niagara Folk Arts Multicultural Centre\", \"shape\": \"dot\", \"title\": \"Niagara Folk Arts Multicultural Centre\"}, {\"color\": \"TEAL\", \"id\": \"Employment Ontario\\rAgencies\", \"label\": \"Employment Ontario\\rAgencies\", \"shape\": \"dot\", \"title\": \"Employment Ontario\\rAgencies\"}, {\"color\": \"TEAL\", \"id\": \"St.Catharines\\rEnterprise Centre\", \"label\": \"St.Catharines\\rEnterprise Centre\", \"shape\": \"dot\", \"title\": \"St.Catharines\\rEnterprise Centre\"}, {\"color\": \"TEAL\", \"id\": \"Venture Niagara\", \"label\": \"Venture Niagara\", \"shape\": \"dot\", \"title\": \"Venture Niagara\"}, {\"color\": \"TEAL\", \"id\": \"Social Enterprise\\rNiagara\", \"label\": \"Social Enterprise\\rNiagara\", \"shape\": \"dot\", \"title\": \"Social Enterprise\\rNiagara\"}, {\"color\": \"TEAL\", \"id\": \"Goodman School of\\rBusiness\", \"label\": \"Goodman School of\\rBusiness\", \"shape\": \"dot\", \"title\": \"Goodman School of\\rBusiness\"}, {\"color\": \"TEAL\", \"id\": \"Niagara Poverty\\rReduction Network\", \"label\": \"Niagara Poverty\\rReduction Network\", \"shape\": \"dot\", \"title\": \"Niagara Poverty\\rReduction Network\"}, {\"color\": \"TEAL\", \"id\": \"The Heat is\\rOn\", \"label\": \"The Heat is\\rOn\", \"shape\": \"dot\", \"title\": \"The Heat is\\rOn\"}, {\"color\": \"TEAL\", \"id\": \"Niagara Folk\\rArts Festival\", \"label\": \"Niagara Folk\\rArts Festival\", \"shape\": \"dot\", \"title\": \"Niagara Folk\\rArts Festival\"}, {\"color\": \"TEAL\", \"id\": \"City of St.\\rCatharines\", \"label\": \"City of St.\\rCatharines\", \"shape\": \"dot\", \"title\": \"City of St.\\rCatharines\"}, {\"color\": \"maroon\", \"id\": \"Heart Niagara\", \"label\": \"Heart Niagara\", \"shape\": \"dot\", \"title\": \"Heart Niagara\"}, {\"color\": \"TEAL\", \"id\": \"Niagara\\rFalls\\rDowntown\\rBoard of\\rManagement\", \"label\": \"Niagara\\rFalls\\rDowntown\\rBoard of\\rManagement\", \"shape\": \"dot\", \"title\": \"Niagara\\rFalls\\rDowntown\\rBoard of\\rManagement\"}, {\"color\": \"TEAL\", \"id\": \"Celebrate\\rOur\\rDowntown\", \"label\": \"Celebrate\\rOur\\rDowntown\", \"shape\": \"dot\", \"title\": \"Celebrate\\rOur\\rDowntown\"}, {\"color\": \"TEAL\", \"id\": \"Niagara\\rCollege\\rEmployment\\rProgram\", \"label\": \"Niagara\\rCollege\\rEmployment\\rProgram\", \"shape\": \"dot\", \"title\": \"Niagara\\rCollege\\rEmployment\\rProgram\"}, {\"color\": \"maroon\", \"id\": \"Horse Cents for Kids Inc\", \"label\": \"Horse Cents for Kids Inc\", \"shape\": \"dot\", \"title\": \"Horse Cents for Kids Inc\"}, {\"color\": \"TEAL\", \"id\": \"The District School\\rBoard of Niagara\", \"label\": \"The District School\\rBoard of Niagara\", \"shape\": \"dot\", \"title\": \"The District School\\rBoard of Niagara\"}, {\"color\": \"TEAL\", \"id\": \"Big Brothers Big\\rSisters of South\\rNiagara\", \"label\": \"Big Brothers Big\\rSisters of South\\rNiagara\", \"shape\": \"dot\", \"title\": \"Big Brothers Big\\rSisters of South\\rNiagara\"}, {\"color\": \"maroon\", \"id\": \"Niagara College Canada\", \"label\": \"Niagara College Canada\", \"shape\": \"dot\", \"title\": \"Niagara College Canada\"}, {\"color\": \"TEAL\", \"id\": \"R.E.A.C.H\", \"label\": \"R.E.A.C.H\", \"shape\": \"dot\", \"title\": \"R.E.A.C.H\"}, {\"color\": \"TEAL\", \"id\": \"Salvation Army Booth\\rCentre\", \"label\": \"Salvation Army Booth\\rCentre\", \"shape\": \"dot\", \"title\": \"Salvation Army Booth\\rCentre\"}, {\"color\": \"TEAL\", \"id\": \"Southridge\\rCommunity Church\", \"label\": \"Southridge\\rCommunity Church\", \"shape\": \"dot\", \"title\": \"Southridge\\rCommunity Church\"}, {\"color\": \"maroon\", \"id\": \"Niagara Connects\", \"label\": \"Niagara Connects\", \"shape\": \"dot\", \"title\": \"Niagara Connects\"}, {\"color\": \"TEAL\", \"id\": \"Community Care\\rof West Niagara\\r(CCWN)\", \"label\": \"Community Care\\rof West Niagara\\r(CCWN)\", \"shape\": \"dot\", \"title\": \"Community Care\\rof West Niagara\\r(CCWN)\"}, {\"color\": \"TEAL\", \"id\": \"Centre de sante\\rcommunautaire\\r(Welland)\", \"label\": \"Centre de sante\\rcommunautaire\\r(Welland)\", \"shape\": \"dot\", \"title\": \"Centre de sante\\rcommunautaire\\r(Welland)\"}, {\"color\": \"TEAL\", \"id\": \"St Vincent De\\rPaul North Fort\\rErie (NFE)\", \"label\": \"St Vincent De\\rPaul North Fort\\rErie (NFE)\", \"shape\": \"dot\", \"title\": \"St Vincent De\\rPaul North Fort\\rErie (NFE)\"}, {\"color\": \"TEAL\", \"id\": \"Community\\rSupport Services\\rNiagara (CSSN)\", \"label\": \"Community\\rSupport Services\\rNiagara (CSSN)\", \"shape\": \"dot\", \"title\": \"Community\\rSupport Services\\rNiagara (CSSN)\"}, {\"color\": \"TEAL\", \"id\": \"Age-Friendly\\rNiagara Network\\r(AFNN)\", \"label\": \"Age-Friendly\\rNiagara Network\\r(AFNN)\", \"shape\": \"dot\", \"title\": \"Age-Friendly\\rNiagara Network\\r(AFNN)\"}, {\"color\": \"TEAL\", \"id\": \"Quest Community\\rHealth Centre\\r(CHC)\", \"label\": \"Quest Community\\rHealth Centre\\r(CHC)\", \"shape\": \"dot\", \"title\": \"Quest Community\\rHealth Centre\\r(CHC)\"}, {\"color\": \"maroon\", \"id\": \"Niagara Medical Group Family Health Team\", \"label\": \"Niagara Medical Group Family Health Team\", \"shape\": \"dot\", \"title\": \"Niagara Medical Group Family Health Team\"}, {\"color\": \"TEAL\", \"id\": \"REACH\", \"label\": \"REACH\", \"shape\": \"dot\", \"title\": \"REACH\"}, {\"color\": \"maroon\", \"id\": \"Port Cares\", \"label\": \"Port Cares\", \"shape\": \"dot\", \"title\": \"Port Cares\"}, {\"color\": \"TEAL\", \"id\": \"Bridges\\rCommunity Health\\rCentre\", \"label\": \"Bridges\\rCommunity Health\\rCentre\", \"shape\": \"dot\", \"title\": \"Bridges\\rCommunity Health\\rCentre\"}, {\"color\": \"maroon\", \"id\": \"Quest Community Health Centre\", \"label\": \"Quest Community Health Centre\", \"shape\": \"dot\", \"title\": \"Quest Community Health Centre\"}, {\"color\": \"TEAL\", \"id\": \"Dental Advisory\\rCommittee\", \"label\": \"Dental Advisory\\rCommittee\", \"shape\": \"dot\", \"title\": \"Dental Advisory\\rCommittee\"}, {\"color\": \"TEAL\", \"id\": \"Southridge\\rCommunity\\rChurch\", \"label\": \"Southridge\\rCommunity\\rChurch\", \"shape\": \"dot\", \"title\": \"Southridge\\rCommunity\\rChurch\"}, {\"color\": \"TEAL\", \"id\": \"Niagara Dental\\rHealth Coalition\", \"label\": \"Niagara Dental\\rHealth Coalition\", \"shape\": \"dot\", \"title\": \"Niagara Dental\\rHealth Coalition\"}, {\"color\": \"TEAL\", \"id\": \"McMaster University\", \"label\": \"McMaster University\", \"shape\": \"dot\", \"title\": \"McMaster University\"}, {\"color\": \"TEAL\", \"id\": \"Brock University\", \"label\": \"Brock University\", \"shape\": \"dot\", \"title\": \"Brock University\"}, {\"color\": \"TEAL\", \"id\": \"Niagara Health\", \"label\": \"Niagara Health\", \"shape\": \"dot\", \"title\": \"Niagara Health\"}, {\"color\": \"TEAL\", \"id\": \"Emergency Medicine\\rResearchers of\\rNiagara\", \"label\": \"Emergency Medicine\\rResearchers of\\rNiagara\", \"shape\": \"dot\", \"title\": \"Emergency Medicine\\rResearchers of\\rNiagara\"}, {\"color\": \"maroon\", \"id\": \"REACH Niagara\", \"label\": \"REACH Niagara\", \"shape\": \"dot\", \"title\": \"REACH Niagara\"}, {\"color\": \"TEAL\", \"id\": \"Emergency Medical Services\", \"label\": \"Emergency Medical Services\", \"shape\": \"dot\", \"title\": \"Emergency Medical Services\"}, {\"color\": \"TEAL\", \"id\": \"2- Niagara North Family Health\\rTeam \\u0026 Niagara Medical Group\\rFamily Health Team\", \"label\": \"2- Niagara North Family Health\\rTeam \\u0026 Niagara Medical Group\\rFamily Health Team\", \"shape\": \"dot\", \"title\": \"2- Niagara North Family Health\\rTeam \\u0026 Niagara Medical Group\\rFamily Health Team\"}, {\"color\": \"TEAL\", \"id\": \"Niagara Health System\", \"label\": \"Niagara Health System\", \"shape\": \"dot\", \"title\": \"Niagara Health System\"}, {\"color\": \"TEAL\", \"id\": \"Niagara Regional Public Health\", \"label\": \"Niagara Regional Public Health\", \"shape\": \"dot\", \"title\": \"Niagara Regional Public Health\"}, {\"color\": \"TEAL\", \"id\": \"McMaster Niagara Regional\\rCampus\", \"label\": \"McMaster Niagara Regional\\rCampus\", \"shape\": \"dot\", \"title\": \"McMaster Niagara Regional\\rCampus\"}, {\"color\": \"TEAL\", \"id\": \"Brock University (2) - I Equip \\u0026\\rStudent\", \"label\": \"Brock University (2) - I Equip \\u0026\\rStudent\", \"shape\": \"dot\", \"title\": \"Brock University (2) - I Equip \\u0026\\rStudent\"}, {\"color\": \"TEAL\", \"id\": \"Niagara College\", \"label\": \"Niagara College\", \"shape\": \"dot\", \"title\": \"Niagara College\"}, {\"color\": \"TEAL\", \"id\": \"YWCA\", \"label\": \"YWCA\", \"shape\": \"dot\", \"title\": \"YWCA\"}, {\"color\": \"TEAL\", \"id\": \"Southridge Shelter\", \"label\": \"Southridge Shelter\", \"shape\": \"dot\", \"title\": \"Southridge Shelter\"}, {\"color\": \"TEAL\", \"id\": \"Salvation Army, Booth Centre\", \"label\": \"Salvation Army, Booth Centre\", \"shape\": \"dot\", \"title\": \"Salvation Army, Booth Centre\"}, {\"color\": \"maroon\", \"id\": \"Rose City Kids\", \"label\": \"Rose City Kids\", \"shape\": \"dot\", \"title\": \"Rose City Kids\"}, {\"color\": \"TEAL\", \"id\": \"Employment\\rSolutions\", \"label\": \"Employment\\rSolutions\", \"shape\": \"dot\", \"title\": \"Employment\\rSolutions\"}, {\"color\": \"maroon\", \"id\": \"STEP Niagara\", \"label\": \"STEP Niagara\", \"shape\": \"dot\", \"title\": \"STEP Niagara\"}, {\"color\": \"TEAL\", \"id\": \"Contractor\\rConcepts\", \"label\": \"Contractor\\rConcepts\", \"shape\": \"dot\", \"title\": \"Contractor\\rConcepts\"}, {\"color\": \"TEAL\", \"id\": \"Notre Dame\\rSecondary School\", \"label\": \"Notre Dame\\rSecondary School\", \"shape\": \"dot\", \"title\": \"Notre Dame\\rSecondary School\"}, {\"color\": \"TEAL\", \"id\": \"Gateway\", \"label\": \"Gateway\", \"shape\": \"dot\", \"title\": \"Gateway\"}, {\"color\": \"TEAL\", \"id\": \"Hope Centre\", \"label\": \"Hope Centre\", \"shape\": \"dot\", \"title\": \"Hope Centre\"}, {\"color\": \"TEAL\", \"id\": \"Nauta Homes\", \"label\": \"Nauta Homes\", \"shape\": \"dot\", \"title\": \"Nauta Homes\"}, {\"color\": \"maroon\", \"id\": \"The Village of Hope\", \"label\": \"The Village of Hope\", \"shape\": \"dot\", \"title\": \"The Village of Hope\"}, {\"color\": \"TEAL\", \"id\": \"Pear Blossom\\rOrchard/Elaine Aquan-\\rYuen\", \"label\": \"Pear Blossom\\rOrchard/Elaine Aquan-\\rYuen\", \"shape\": \"dot\", \"title\": \"Pear Blossom\\rOrchard/Elaine Aquan-\\rYuen\"}, {\"color\": \"TEAL\", \"id\": \"Community Support\\rServices of\\rNiagara/Cheryle Laba\", \"label\": \"Community Support\\rServices of\\rNiagara/Cheryle Laba\", \"shape\": \"dot\", \"title\": \"Community Support\\rServices of\\rNiagara/Cheryle Laba\"}, {\"color\": \"TEAL\", \"id\": \"Midway Gardens-Tanis\\rCole\", \"label\": \"Midway Gardens-Tanis\\rCole\", \"shape\": \"dot\", \"title\": \"Midway Gardens-Tanis\\rCole\"}, {\"color\": \"TEAL\", \"id\": \"Dave Robitaille\", \"label\": \"Dave Robitaille\", \"shape\": \"dot\", \"title\": \"Dave Robitaille\"}, {\"color\": \"TEAL\", \"id\": \"Dino Miele\", \"label\": \"Dino Miele\", \"shape\": \"dot\", \"title\": \"Dino Miele\"}, {\"color\": \"TEAL\", \"id\": \"Client Letter\", \"label\": \"Client Letter\", \"shape\": \"dot\", \"title\": \"Client Letter\"}, {\"color\": \"TEAL\", \"id\": \"Client\\rReference1\", \"label\": \"Client\\rReference1\", \"shape\": \"dot\", \"title\": \"Client\\rReference1\"}, {\"color\": \"TEAL\", \"id\": \"Client\\rReference 2\", \"label\": \"Client\\rReference 2\", \"shape\": \"dot\", \"title\": \"Client\\rReference 2\"}, {\"color\": \"maroon\", \"id\": \"YMCA of Niagara\", \"label\": \"YMCA of Niagara\", \"shape\": \"dot\", \"title\": \"YMCA of Niagara\"}, {\"color\": \"TEAL\", \"id\": \"Niagara Region\\rPublic Health\", \"label\": \"Niagara Region\\rPublic Health\", \"shape\": \"dot\", \"title\": \"Niagara Region\\rPublic Health\"}]);\n",
              "        edges = new vis.DataSet([{\"from\": \"Brain Injury Association of Niagara\", \"title\": \"Provide support and inform Brain Injury Associations\\racross Ontario of member driven opportunities.\", \"to\": \"OBIA\"}, {\"from\": \"Brain Injury Association of Niagara\", \"title\": \"Provide information and refer clients where appropriate to\\rlunch programming available with BIAN\", \"to\": \"Bayshore\"}, {\"from\": \"Brain Injury Association of Niagara\", \"title\": \"Provide information and refer clients where appropriate to\\rlunch programming available with BIAN\", \"to\": \"ABION\"}, {\"from\": \"Brain Injury Association of Niagara\", \"title\": \"Provide information and refer clients where appropriate to\\rlunch programming available with BIAN\", \"to\": \"Brain Injury\\rCommunity Re-\\rEntry\"}, {\"from\": \"Brain Injury Association of Niagara\", \"title\": \"Provide information and refer clients where appropriate to\\rlunch programming available with BIAN\", \"to\": \"Lear\\rCommunications\"}, {\"from\": \"Brain Injury Association of Niagara\", \"title\": \"Provide information and refer clients where appropriate to\\rlunch programming available with BIAN\", \"to\": \"BDH\\rRehabilitation\"}, {\"from\": \"Brain Injury Association of Niagara\", \"title\": \"Provide information and refer clients where appropriate to\\rlunch programming available with BIAN\", \"to\": \"Bieman Copland\\rand Associates\"}, {\"from\": \"Brain Injury Association of Niagara\", \"title\": \"Provide information and refer clients where appropriate to\\rlunch programming available with BIAN\", \"to\": \"Literacy Link\\rNiagara\"}, {\"from\": \"Community Care St. Catharines and Thorold\", \"title\": \"Referrals to and from SMUN for supports and\\rto access SMUN programs\", \"to\": \"Start Me UP Niagara\"}, {\"from\": \"Community Care St. Catharines and Thorold\", \"title\": \"Referrals to and from and some mobile\\rservices and additional outreach supports,\", \"to\": \"Gateway Residential \\u0026\\rCommunity Support Services\"}, {\"from\": \"Niagara Folk Arts Multicultural Centre\", \"title\": \"Recommend high potential\\remployers to speak to\", \"to\": \"Employment Ontario\\rAgencies\"}, {\"from\": \"Niagara Folk Arts Multicultural Centre\", \"title\": \"Recommend high potential\\remployers to speak to\", \"to\": \"St.Catharines\\rEnterprise Centre\"}, {\"from\": \"Niagara Folk Arts Multicultural Centre\", \"title\": \"Recommend high potential\\remployers to speak to\", \"to\": \"Venture Niagara\"}, {\"from\": \"Niagara Folk Arts Multicultural Centre\", \"title\": \"Help advise client businesses\\rand promote the project\", \"to\": \"Social Enterprise\\rNiagara\"}, {\"from\": \"Niagara Folk Arts Multicultural Centre\", \"title\": \"Provide graduate student\\radvisors to client businesses\", \"to\": \"Goodman School of\\rBusiness\"}, {\"from\": \"Niagara Folk Arts Multicultural Centre\", \"title\": \"Steering committee advisors\\rand promote project\", \"to\": \"Niagara Poverty\\rReduction Network\"}, {\"from\": \"Niagara Folk Arts Multicultural Centre\", \"title\": \"Providing expertise and support to market food\\rproducts for sale. Direct coaching and support.\", \"to\": \"The Heat is\\rOn\"}, {\"from\": \"Niagara Folk Arts Multicultural Centre\", \"title\": \"Providing volunteer opportunities, free marketing \\u0026\\rcommerce space for selling artisan products.\", \"to\": \"Niagara Folk\\rArts Festival\"}, {\"from\": \"Niagara Folk Arts Multicultural Centre\", \"title\": \"City will provide space at market to sale artisan\\rproducts\", \"to\": \"City of St.\\rCatharines\"}, {\"from\": \"Heart Niagara\", \"title\": \"the Niagara Falls Downtown Board of Management is tasked by our BIA\\rmembership to provide community events, festivals and business develop\\rin the Queen Street District. We welcome the opportunity to sub contract\\rservices from those living, working and playing in our district. We commit\\rto support the development of NEC as a solution based social enterprise\\rin our area (elgin)\", \"to\": \"Niagara\\rFalls\\rDowntown\\rBoard of\\rManagement\"}, {\"from\": \"Heart Niagara\", \"title\": \"Celebrate Our Downtown (COD) is a non-profit community corporation\\rwith a mandate to organize events that increase community outreach,\\rarts, culture and the profile of our downtown. COD operates independently\\rof the BIA with a board and sub committees. COD does report to the\\rNFDBM and follows government reporting as a non-profit\\r\\rCOD receives marketing and sponsorship funds from the BIA to assist\\rwith event marketing. COD acquires sponsorship, vendor fees, and grant\\rfunding needed to meet the financial requirements for events. NEC would\\rprovide COD with human resources to support our more than 16 events\\rannually plus increase our ability to deliver programs at the Canada Day\\rcelebrations and Santa Claus parade. In our district there are a number of\\rartists and musicians looking to provide event management. COD would\\rhave a greater confidence in hiring local knowing they were insured and\\rhad training.\\r\\rCOD and the BIA are separate non-profits they work in collaboration to\\rmeet the goals of both boards\", \"to\": \"Celebrate\\rOur\\rDowntown\"}, {\"from\": \"Heart Niagara\", \"title\": \"present to you a few different opportunities to help with your hiring needs\\rand receive some money. there is an opportunity to receive a financial\\rincentive to help with hiring and training costs associated with your new\\rhire. This incentive, which differs based on the client\\u2019s qualifications,\\rhourly wage, # of hours per week, etc., can be anywhere from\\r$1000-$6000.\", \"to\": \"Niagara\\rCollege\\rEmployment\\rProgram\"}, {\"from\": \"Horse Cents for Kids Inc\", \"title\": \"Assist with the selection of participants,\\rregistration and evaluation of the FEP.\", \"to\": \"The District School\\rBoard of Niagara\"}, {\"from\": \"Horse Cents for Kids Inc\", \"title\": \"Assist with the selection of participants,\\rregistration and evaluation of the FEP.\", \"to\": \"Big Brothers Big\\rSisters of South\\rNiagara\"}, {\"from\": \"Niagara College Canada\", \"title\": \"Organizing body of health services to homeless\\rshelters.\", \"to\": \"R.E.A.C.H\"}, {\"from\": \"Niagara College Canada\", \"title\": \"NC students provide oral health care to\\rresidents of the shelter.\", \"to\": \"Salvation Army Booth\\rCentre\"}, {\"from\": \"Niagara College Canada\", \"title\": \"NC students provide oral health care to\\rresidents of the shelter.\", \"to\": \"Southridge\\rCommunity Church\"}, {\"from\": \"Niagara Connects\", \"title\": \"Leverage collaboration w/ health agencies,\\rto innovative in supporting clients w/\\rcomplex needs\", \"to\": \"Community Care\\rof West Niagara\\r(CCWN)\"}, {\"from\": \"Niagara Connects\", \"title\": \"Help build consortium structure \\u0026 beta-test\\rstructure with Caring for my COPD program\", \"to\": \"Centre de sante\\rcommunautaire\\r(Welland)\"}, {\"from\": \"Niagara Connects\", \"title\": \"Engage vulnerable individuals \\u0026 NFE\\rcomm\\u0027y partners to inform building of\\rconsortium structure\", \"to\": \"St Vincent De\\rPaul North Fort\\rErie (NFE)\"}, {\"from\": \"Niagara Connects\", \"title\": \"Engage: CSSN clients; MealsOnWheels\\rvolunteers; Age-Friendly leaders to inform\\rconsortium structure\", \"to\": \"Community\\rSupport Services\\rNiagara (CSSN)\"}, {\"from\": \"Niagara Connects\", \"title\": \"Engage 380+ AFNN members \\u0026 partners to\\rinform consortium structure, \\u0026 advocate for\\rsustainability\", \"to\": \"Age-Friendly\\rNiagara Network\\r(AFNN)\"}, {\"from\": \"Niagara Connects\", \"title\": \"Engage vulnerable individuals \\u0026 fellow\\rAFNN leaders to inform consortium\\rstructure\", \"to\": \"Quest Community\\rHealth Centre\\r(CHC)\"}, {\"from\": \"Niagara Medical Group Family Health Team\", \"title\": \"REACH Niagara runs primary care clinics in Southridge\\rShelter servicing marginalized populations.\", \"to\": \"REACH\"}, {\"from\": \"Port Cares\", \"title\": \"Providing information \\u0026 support services to clients at the\\rReach Out Centre site or at the Bridges.\", \"to\": \"Bridges\\rCommunity Health\\rCentre\"}, {\"from\": \"Quest Community Health Centre\", \"title\": \"The DAC assists with process, improvements, clinical\\radvice and service feedback.\", \"to\": \"Dental Advisory\\rCommittee\"}, {\"from\": \"Quest Community Health Centre\", \"title\": \"Southridge is a community stakeholder and referral\\rsource.\", \"to\": \"Southridge\\rCommunity\\rChurch\"}, {\"from\": \"Quest Community Health Centre\", \"title\": \"The Niagara Dental Health Coalition advocates and\\rbuilds capacity and support for the VDP.\", \"to\": \"Niagara Dental\\rHealth Coalition\"}, {\"from\": \"Quest Community Health Centre\", \"title\": \"Admin. support for grant processing and\\rresearch finance. 2 Research Assistants\\r(Medical Students)\", \"to\": \"McMaster University\"}, {\"from\": \"Quest Community Health Centre\", \"title\": \"A faculty member and student from I-EQUIP are\\rinvolved in the research initiative of project.\", \"to\": \"Brock University\"}, {\"from\": \"Quest Community Health Centre\", \"title\": \"Sites for project delivery. Access to data.\\rSupport the research and policy initiatives of\\rproject\", \"to\": \"Niagara Health\"}, {\"from\": \"Quest Community Health Centre\", \"title\": \"Support the implementation, research and policy\\rinitiatives of project\", \"to\": \"Emergency Medicine\\rResearchers of\\rNiagara\"}, {\"from\": \"REACH Niagara\", \"title\": \"Community paramedic attends clinic in\\rshelters two half days a week REACH\\roperations committee\", \"to\": \"Emergency Medical Services\"}, {\"from\": \"REACH Niagara\", \"title\": \"In kind donations of nurse practitioners;\\rfinancial management, coordinated care\\rplans, IHP services\", \"to\": \"2- Niagara North Family Health\\rTeam \\u0026 Niagara Medical Group\\rFamily Health Team\"}, {\"from\": \"REACH Niagara\", \"title\": \"Member of REACH committee and\\rfacilitation of services.\", \"to\": \"Niagara Health System\"}, {\"from\": \"REACH Niagara\", \"title\": \"Primary care engagement, outreach\\rnurses/workers in shelters working with\\rREACH to connect to care.\", \"to\": \"Niagara Regional Public Health\"}, {\"from\": \"REACH Niagara\", \"title\": \"teaching medical students and residents;\\revaluation of REACH services using\\rresearch methodologies\", \"to\": \"McMaster Niagara Regional\\rCampus\"}, {\"from\": \"REACH Niagara\", \"title\": \"Research - One from Dr. M. Law and UG\\rstudent - Evaluation of REACH - service\\rgap identification\", \"to\": \"Brock University (2) - I Equip \\u0026\\rStudent\"}, {\"from\": \"REACH Niagara\", \"title\": \"Dental Students - provision of dental\\rassessments and referrals for REACH\\rclients in shelters\", \"to\": \"Niagara College\"}, {\"from\": \"REACH Niagara\", \"title\": \"primary care in-shelter clinic for primarily\\rwomen/children - provision of space and\\rsupport\", \"to\": \"YWCA\"}, {\"from\": \"REACH Niagara\", \"title\": \"primary care in-shelter clinic - providing\\rclinic support and space for care provision\", \"to\": \"Southridge Shelter\"}, {\"from\": \"REACH Niagara\", \"title\": \"primary care in-shelter medical clinic -\\rsupport for clinic space and admin support\", \"to\": \"Salvation Army, Booth Centre\"}, {\"from\": \"Rose City Kids\", \"title\": \"To provide training, referrals to clients, promote\\rand advertise.\\rTo provide funding for placements.\", \"to\": \"Employment\\rSolutions\"}, {\"from\": \"STEP Niagara\", \"title\": \"Construction management and direction.\", \"to\": \"Contractor\\rConcepts\"}, {\"from\": \"STEP Niagara\", \"title\": \"Social Media and web site direction and support.\", \"to\": \"Notre Dame\\rSecondary School\"}, {\"from\": \"STEP Niagara\", \"title\": \"Support of Participant. Direction and assistance in\\rCommunity and Government programs.\", \"to\": \"Gateway\"}, {\"from\": \"STEP Niagara\", \"title\": \"Support of Participant. Direction and assistance in\\rCommunity and Government programs.\", \"to\": \"Hope Centre\"}, {\"from\": \"STEP Niagara\", \"title\": \"Support with Niagara College Courses on design for\\rspecial needs.\", \"to\": \"Nauta Homes\"}, {\"from\": \"The Village of Hope\", \"title\": \"Pear Blossom Orchard is a family owned\\rorganic farm in Lincoln, they will provide\\rdonated food.\", \"to\": \"Pear Blossom\\rOrchard/Elaine Aquan-\\rYuen\"}, {\"from\": \"The Village of Hope\", \"title\": \"CSSN provides services to seniors they\\ridentify and provide referrals to Village of\\rHope\", \"to\": \"Community Support\\rServices of\\rNiagara/Cheryle Laba\"}, {\"from\": \"The Village of Hope\", \"title\": \"A horticultural supplier, and community\\rpartner, supplying resources and knowledge\\rto the VoH\", \"to\": \"Midway Gardens-Tanis\\rCole\"}, {\"from\": \"The Village of Hope\", \"title\": \"IBM Corporate Citizenship Canada, supporter\", \"to\": \"Dave Robitaille\"}, {\"from\": \"The Village of Hope\", \"title\": \"SPARK Niagara, supporter\", \"to\": \"Dino Miele\"}, {\"from\": \"The Village of Hope\", \"title\": \"A letter of interest/reference to the program of\\rFood First\", \"to\": \"Client Letter\"}, {\"from\": \"The Village of Hope\", \"title\": \"A letter from a beneficiary of our accommodation\\rsupplement\", \"to\": \"Client\\rReference1\"}, {\"from\": \"The Village of Hope\", \"title\": \"A letter from a beneficiary of our accommodation\\rsupplement\", \"to\": \"Client\\rReference 2\"}, {\"from\": \"YMCA of Niagara\", \"title\": \"Design and develop nutrition curriculum, provide\\repidemiology expertise for program evaluation.\", \"to\": \"Niagara Region\\rPublic Health\"}]);\n",
              "\n",
              "        // adding nodes and edges to the graph\n",
              "        data = {nodes: nodes, edges: edges};\n",
              "\n",
              "        var options = {\n",
              "    \"configure\": {\n",
              "        \"enabled\": false\n",
              "    },\n",
              "    \"edges\": {\n",
              "        \"color\": {\n",
              "            \"inherit\": true\n",
              "        },\n",
              "        \"smooth\": {\n",
              "            \"enabled\": false,\n",
              "            \"type\": \"continuous\"\n",
              "        }\n",
              "    },\n",
              "    \"interaction\": {\n",
              "        \"dragNodes\": true,\n",
              "        \"hideEdgesOnDrag\": false,\n",
              "        \"hideNodesOnDrag\": false\n",
              "    },\n",
              "    \"physics\": {\n",
              "        \"enabled\": true,\n",
              "        \"stabilization\": {\n",
              "            \"enabled\": true,\n",
              "            \"fit\": true,\n",
              "            \"iterations\": 1000,\n",
              "            \"onlyDynamicEdges\": false,\n",
              "            \"updateInterval\": 50\n",
              "        }\n",
              "    }\n",
              "};\n",
              "        \n",
              "        \n",
              "\n",
              "        \n",
              "\n",
              "        network = new vis.Network(container, data, options);\n",
              "\n",
              "        \n",
              "\n",
              "\n",
              "        \n",
              "\n",
              "        return network;\n",
              "\n",
              "    }\n",
              "\n",
              "    drawGraph();\n",
              "\n",
              "</script>\n",
              "</body>\n",
              "</html>"
            ],
            "text/plain": [
              "<IPython.core.display.HTML object>"
            ]
          },
          "metadata": {
            "tags": []
          },
          "execution_count": 87
        }
      ]
    },
    {
      "cell_type": "markdown",
      "metadata": {
        "id": "1ODBhWlSQXyE",
        "colab_type": "text"
      },
      "source": [
        "# Download the result to loacal machine"
      ]
    },
    {
      "cell_type": "code",
      "metadata": {
        "id": "fIEkrDZIym4D",
        "colab_type": "code",
        "colab": {
          "base_uri": "https://localhost:8080/",
          "height": 17
        },
        "outputId": "799aa71b-d37e-47b8-876e-b0a4e3c6d1de"
      },
      "source": [
        "from google.colab import files\n",
        "files.download('eval.xlsx')\n",
        "\n",
        "files.download(Ahtml)\n",
        "files.download(Dhtml)"
      ],
      "execution_count": 88,
      "outputs": [
        {
          "output_type": "display_data",
          "data": {
            "application/javascript": [
              "\n",
              "    async function download(id, filename, size) {\n",
              "      if (!google.colab.kernel.accessAllowed) {\n",
              "        return;\n",
              "      }\n",
              "      const div = document.createElement('div');\n",
              "      const label = document.createElement('label');\n",
              "      label.textContent = `Downloading \"${filename}\": `;\n",
              "      div.appendChild(label);\n",
              "      const progress = document.createElement('progress');\n",
              "      progress.max = size;\n",
              "      div.appendChild(progress);\n",
              "      document.body.appendChild(div);\n",
              "\n",
              "      const buffers = [];\n",
              "      let downloaded = 0;\n",
              "\n",
              "      const channel = await google.colab.kernel.comms.open(id);\n",
              "      // Send a message to notify the kernel that we're ready.\n",
              "      channel.send({})\n",
              "\n",
              "      for await (const message of channel.messages) {\n",
              "        // Send a message to notify the kernel that we're ready.\n",
              "        channel.send({})\n",
              "        if (message.buffers) {\n",
              "          for (const buffer of message.buffers) {\n",
              "            buffers.push(buffer);\n",
              "            downloaded += buffer.byteLength;\n",
              "            progress.value = downloaded;\n",
              "          }\n",
              "        }\n",
              "      }\n",
              "      const blob = new Blob(buffers, {type: 'application/binary'});\n",
              "      const a = document.createElement('a');\n",
              "      a.href = window.URL.createObjectURL(blob);\n",
              "      a.download = filename;\n",
              "      div.appendChild(a);\n",
              "      a.click();\n",
              "      div.remove();\n",
              "    }\n",
              "  "
            ],
            "text/plain": [
              "<IPython.core.display.Javascript object>"
            ]
          },
          "metadata": {
            "tags": []
          }
        },
        {
          "output_type": "display_data",
          "data": {
            "application/javascript": [
              "download(\"download_89e9ce02-ea2b-4738-9994-0e1cd97f5afe\", \"approved.html\", 40255)"
            ],
            "text/plain": [
              "<IPython.core.display.Javascript object>"
            ]
          },
          "metadata": {
            "tags": []
          }
        },
        {
          "output_type": "display_data",
          "data": {
            "application/javascript": [
              "\n",
              "    async function download(id, filename, size) {\n",
              "      if (!google.colab.kernel.accessAllowed) {\n",
              "        return;\n",
              "      }\n",
              "      const div = document.createElement('div');\n",
              "      const label = document.createElement('label');\n",
              "      label.textContent = `Downloading \"${filename}\": `;\n",
              "      div.appendChild(label);\n",
              "      const progress = document.createElement('progress');\n",
              "      progress.max = size;\n",
              "      div.appendChild(progress);\n",
              "      document.body.appendChild(div);\n",
              "\n",
              "      const buffers = [];\n",
              "      let downloaded = 0;\n",
              "\n",
              "      const channel = await google.colab.kernel.comms.open(id);\n",
              "      // Send a message to notify the kernel that we're ready.\n",
              "      channel.send({})\n",
              "\n",
              "      for await (const message of channel.messages) {\n",
              "        // Send a message to notify the kernel that we're ready.\n",
              "        channel.send({})\n",
              "        if (message.buffers) {\n",
              "          for (const buffer of message.buffers) {\n",
              "            buffers.push(buffer);\n",
              "            downloaded += buffer.byteLength;\n",
              "            progress.value = downloaded;\n",
              "          }\n",
              "        }\n",
              "      }\n",
              "      const blob = new Blob(buffers, {type: 'application/binary'});\n",
              "      const a = document.createElement('a');\n",
              "      a.href = window.URL.createObjectURL(blob);\n",
              "      a.download = filename;\n",
              "      div.appendChild(a);\n",
              "      a.click();\n",
              "      div.remove();\n",
              "    }\n",
              "  "
            ],
            "text/plain": [
              "<IPython.core.display.Javascript object>"
            ]
          },
          "metadata": {
            "tags": []
          }
        },
        {
          "output_type": "display_data",
          "data": {
            "application/javascript": [
              "download(\"download_2cdb6e44-4314-420b-b23f-8acf775781e8\", \"decline.html\", 27198)"
            ],
            "text/plain": [
              "<IPython.core.display.Javascript object>"
            ]
          },
          "metadata": {
            "tags": []
          }
        }
      ]
    }
  ]
}